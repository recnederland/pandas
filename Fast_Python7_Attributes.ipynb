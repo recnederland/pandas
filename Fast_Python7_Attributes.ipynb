{
 "cells": [
  {
   "cell_type": "code",
   "execution_count": 1,
   "id": "1ccd0d43",
   "metadata": {},
   "outputs": [],
   "source": [
    "import pandas as pd"
   ]
  },
  {
   "cell_type": "code",
   "execution_count": 16,
   "id": "0a30dd1e",
   "metadata": {},
   "outputs": [],
   "source": [
    "import numpy as np"
   ]
  },
  {
   "cell_type": "code",
   "execution_count": null,
   "id": "7104e8b1",
   "metadata": {},
   "outputs": [],
   "source": [
    "# np.nan seklinde  bos data ekleyebiliriz"
   ]
  },
  {
   "cell_type": "code",
   "execution_count": 17,
   "id": "e82c9d16",
   "metadata": {},
   "outputs": [],
   "source": [
    "liste = ['a', 'b', 'c', 5, np.nan, 'd']"
   ]
  },
  {
   "cell_type": "code",
   "execution_count": 18,
   "id": "39334a09",
   "metadata": {},
   "outputs": [
    {
     "data": {
      "text/plain": [
       "['a', 'b', 'c', 5, nan, 'd']"
      ]
     },
     "execution_count": 18,
     "metadata": {},
     "output_type": "execute_result"
    }
   ],
   "source": [
    "liste"
   ]
  },
  {
   "cell_type": "code",
   "execution_count": 19,
   "id": "9c9e5d51",
   "metadata": {},
   "outputs": [
    {
     "data": {
      "text/plain": [
       "0      a\n",
       "1      b\n",
       "2      c\n",
       "3      5\n",
       "4    NaN\n",
       "5      d\n",
       "dtype: object"
      ]
     },
     "execution_count": 19,
     "metadata": {},
     "output_type": "execute_result"
    }
   ],
   "source": [
    "pd.Series(liste)"
   ]
  },
  {
   "cell_type": "code",
   "execution_count": 20,
   "id": "a90155b1",
   "metadata": {},
   "outputs": [],
   "source": [
    "seri = pd.Series(liste)"
   ]
  },
  {
   "cell_type": "code",
   "execution_count": 21,
   "id": "43a18563",
   "metadata": {},
   "outputs": [
    {
     "data": {
      "text/plain": [
       "0      a\n",
       "1      b\n",
       "2      c\n",
       "3      5\n",
       "4    NaN\n",
       "5      d\n",
       "dtype: object"
      ]
     },
     "execution_count": 21,
     "metadata": {},
     "output_type": "execute_result"
    }
   ],
   "source": [
    "seri"
   ]
  },
  {
   "cell_type": "code",
   "execution_count": null,
   "id": "e330e4db",
   "metadata": {},
   "outputs": [],
   "source": [
    "seri."
   ]
  },
  {
   "cell_type": "markdown",
   "id": "0ad1937a",
   "metadata": {},
   "source": [
    "Attributes\n",
    "Axes\n",
    "\n",
    "Series.index\n",
    "\n",
    "The index (axis labels) of the Series.\n",
    "\n",
    "Series.array\n",
    "\n",
    "The ExtensionArray of the data backing this Series or Index.\n",
    "\n",
    "Series.values\n",
    "\n",
    "Return Series as ndarray or ndarray-like depending on the dtype.\n",
    "\n",
    "Series.dtype\n",
    "\n",
    "Return the dtype object of the underlying data.\n",
    "\n",
    "Series.shape\n",
    "\n",
    "Return a tuple of the shape of the underlying data.\n",
    "\n",
    "Series.nbytes\n",
    "\n",
    "Return the number of bytes in the underlying data.\n",
    "\n",
    "Series.ndim\n",
    "\n",
    "Number of dimensions of the underlying data, by definition 1.\n",
    "\n",
    "Series.size\n",
    "\n",
    "Return the number of elements in the underlying data.\n",
    "\n",
    "Series.T\n",
    "\n",
    "Return the transpose, which is by definition self.\n",
    "\n",
    "Series.memory_usage([index, deep])\n",
    "\n",
    "Return the memory usage of the Series.\n",
    "\n",
    "Series.hasnans\n",
    "\n",
    "Return True if there are any NaNs.\n",
    "\n",
    "Series.empty\n",
    "\n",
    "Indicator whether Series/DataFrame is empty.\n",
    "\n",
    "Series.dtypes\n",
    "\n",
    "Return the dtype object of the underlying data.\n",
    "\n",
    "Series.name\n",
    "\n",
    "Return the name of the Series.\n",
    "\n",
    "Series.flags\n",
    "\n",
    "Get the properties associated with this pandas object.\n",
    "\n",
    "Series.set_flags(*[, copy, ...])\n",
    "\n",
    "Return a new object with updated flags."
   ]
  },
  {
   "cell_type": "code",
   "execution_count": 22,
   "id": "5df5e448",
   "metadata": {},
   "outputs": [
    {
     "data": {
      "text/plain": [
       "0      a\n",
       "1      b\n",
       "2      c\n",
       "3      5\n",
       "4    NaN\n",
       "5      d\n",
       "dtype: object"
      ]
     },
     "execution_count": 22,
     "metadata": {},
     "output_type": "execute_result"
    }
   ],
   "source": [
    "seri.T"
   ]
  },
  {
   "cell_type": "code",
   "execution_count": 23,
   "id": "850f8a25",
   "metadata": {},
   "outputs": [
    {
     "data": {
      "text/plain": [
       "dtype('O')"
      ]
     },
     "execution_count": 23,
     "metadata": {},
     "output_type": "execute_result"
    }
   ],
   "source": [
    "seri.dtype"
   ]
  },
  {
   "cell_type": "code",
   "execution_count": 24,
   "id": "145b8f85",
   "metadata": {},
   "outputs": [
    {
     "data": {
      "text/plain": [
       "dtype('O')"
      ]
     },
     "execution_count": 24,
     "metadata": {},
     "output_type": "execute_result"
    }
   ],
   "source": [
    "seri.dtypes"
   ]
  },
  {
   "cell_type": "code",
   "execution_count": 30,
   "id": "a7c02a91",
   "metadata": {},
   "outputs": [
    {
     "data": {
      "text/plain": [
       "RangeIndex(start=0, stop=6, step=1)"
      ]
     },
     "execution_count": 30,
     "metadata": {},
     "output_type": "execute_result"
    }
   ],
   "source": [
    "seri.index"
   ]
  },
  {
   "cell_type": "code",
   "execution_count": 31,
   "id": "6fbc749d",
   "metadata": {},
   "outputs": [
    {
     "data": {
      "text/plain": [
       "<PandasArray>\n",
       "['a', 'b', 'c', 5, nan, 'd']\n",
       "Length: 6, dtype: object"
      ]
     },
     "execution_count": 31,
     "metadata": {},
     "output_type": "execute_result"
    }
   ],
   "source": [
    "seri.array"
   ]
  },
  {
   "cell_type": "code",
   "execution_count": 33,
   "id": "4761298b",
   "metadata": {},
   "outputs": [
    {
     "data": {
      "text/plain": [
       "array(['a', 'b', 'c', 5, nan, 'd'], dtype=object)"
      ]
     },
     "execution_count": 33,
     "metadata": {},
     "output_type": "execute_result"
    }
   ],
   "source": [
    "seri.values"
   ]
  },
  {
   "cell_type": "code",
   "execution_count": 34,
   "id": "1b075506",
   "metadata": {},
   "outputs": [
    {
     "data": {
      "text/plain": [
       "(6,)"
      ]
     },
     "execution_count": 34,
     "metadata": {},
     "output_type": "execute_result"
    }
   ],
   "source": [
    "seri.shape"
   ]
  },
  {
   "cell_type": "code",
   "execution_count": 35,
   "id": "00f4c1e1",
   "metadata": {},
   "outputs": [
    {
     "data": {
      "text/plain": [
       "48"
      ]
     },
     "execution_count": 35,
     "metadata": {},
     "output_type": "execute_result"
    }
   ],
   "source": [
    "seri.nbytes"
   ]
  },
  {
   "cell_type": "code",
   "execution_count": 36,
   "id": "cef11208",
   "metadata": {},
   "outputs": [
    {
     "data": {
      "text/plain": [
       "1"
      ]
     },
     "execution_count": 36,
     "metadata": {},
     "output_type": "execute_result"
    }
   ],
   "source": [
    "seri.ndim"
   ]
  },
  {
   "cell_type": "code",
   "execution_count": 37,
   "id": "f5c04f7b",
   "metadata": {},
   "outputs": [
    {
     "data": {
      "text/plain": [
       "True"
      ]
     },
     "execution_count": 37,
     "metadata": {},
     "output_type": "execute_result"
    }
   ],
   "source": [
    "seri.hasnans"
   ]
  },
  {
   "cell_type": "code",
   "execution_count": 38,
   "id": "f24fc37a",
   "metadata": {},
   "outputs": [
    {
     "data": {
      "text/plain": [
       "False"
      ]
     },
     "execution_count": 38,
     "metadata": {},
     "output_type": "execute_result"
    }
   ],
   "source": [
    "seri.empty"
   ]
  },
  {
   "cell_type": "code",
   "execution_count": 39,
   "id": "1d531f85",
   "metadata": {},
   "outputs": [],
   "source": [
    "seri.name"
   ]
  },
  {
   "cell_type": "code",
   "execution_count": 40,
   "id": "21ee4c7f",
   "metadata": {},
   "outputs": [
    {
     "data": {
      "text/plain": [
       "<Flags(allows_duplicate_labels=True)>"
      ]
     },
     "execution_count": 40,
     "metadata": {},
     "output_type": "execute_result"
    }
   ],
   "source": [
    "seri.flags"
   ]
  },
  {
   "cell_type": "code",
   "execution_count": 44,
   "id": "c071696d",
   "metadata": {},
   "outputs": [
    {
     "data": {
      "text/plain": [
       "176"
      ]
     },
     "execution_count": 44,
     "metadata": {},
     "output_type": "execute_result"
    }
   ],
   "source": [
    "seri.memory_usage([1, 'a'])"
   ]
  },
  {
   "cell_type": "code",
   "execution_count": 45,
   "id": "4f179361",
   "metadata": {},
   "outputs": [
    {
     "ename": "SyntaxError",
     "evalue": "invalid syntax (Temp/ipykernel_21128/3712861723.py, line 1)",
     "output_type": "error",
     "traceback": [
      "\u001b[1;36m  File \u001b[1;32m\"C:\\Users\\recba\\AppData\\Local\\Temp/ipykernel_21128/3712861723.py\"\u001b[1;36m, line \u001b[1;32m1\u001b[0m\n\u001b[1;33m    seri.set_flags(*[, copy, ...])\u001b[0m\n\u001b[1;37m                     ^\u001b[0m\n\u001b[1;31mSyntaxError\u001b[0m\u001b[1;31m:\u001b[0m invalid syntax\n"
     ]
    }
   ],
   "source": [
    "seri.set_flags(*[, copy, ...])"
   ]
  },
  {
   "cell_type": "code",
   "execution_count": 46,
   "id": "45cbfe2b",
   "metadata": {},
   "outputs": [
    {
     "data": {
      "text/plain": [
       "RangeIndex(start=0, stop=6, step=1)"
      ]
     },
     "execution_count": 46,
     "metadata": {},
     "output_type": "execute_result"
    }
   ],
   "source": [
    "seri.index"
   ]
  },
  {
   "cell_type": "code",
   "execution_count": 29,
   "id": "b3588824",
   "metadata": {},
   "outputs": [
    {
     "data": {
      "text/plain": [
       "6"
      ]
     },
     "execution_count": 29,
     "metadata": {},
     "output_type": "execute_result"
    }
   ],
   "source": [
    "seri.size"
   ]
  },
  {
   "cell_type": "code",
   "execution_count": null,
   "id": "ff83cfd9",
   "metadata": {},
   "outputs": [],
   "source": []
  },
  {
   "cell_type": "code",
   "execution_count": null,
   "id": "077405a8",
   "metadata": {},
   "outputs": [],
   "source": []
  },
  {
   "cell_type": "code",
   "execution_count": null,
   "id": "be4be7e5",
   "metadata": {},
   "outputs": [],
   "source": []
  },
  {
   "cell_type": "code",
   "execution_count": null,
   "id": "23cb9ea5",
   "metadata": {},
   "outputs": [],
   "source": []
  },
  {
   "cell_type": "code",
   "execution_count": null,
   "id": "4f645a38",
   "metadata": {},
   "outputs": [],
   "source": []
  },
  {
   "cell_type": "code",
   "execution_count": null,
   "id": "49e15844",
   "metadata": {},
   "outputs": [],
   "source": []
  },
  {
   "cell_type": "code",
   "execution_count": null,
   "id": "8efa3479",
   "metadata": {},
   "outputs": [],
   "source": []
  },
  {
   "cell_type": "code",
   "execution_count": null,
   "id": "d4da6bfc",
   "metadata": {},
   "outputs": [],
   "source": []
  },
  {
   "cell_type": "code",
   "execution_count": null,
   "id": "802aab6f",
   "metadata": {},
   "outputs": [],
   "source": []
  },
  {
   "cell_type": "code",
   "execution_count": null,
   "id": "40a0e3c4",
   "metadata": {},
   "outputs": [],
   "source": []
  },
  {
   "cell_type": "code",
   "execution_count": null,
   "id": "06ca999a",
   "metadata": {},
   "outputs": [],
   "source": []
  },
  {
   "cell_type": "code",
   "execution_count": null,
   "id": "4917349e",
   "metadata": {},
   "outputs": [],
   "source": []
  },
  {
   "cell_type": "code",
   "execution_count": null,
   "id": "72078406",
   "metadata": {},
   "outputs": [],
   "source": []
  },
  {
   "cell_type": "code",
   "execution_count": null,
   "id": "15427600",
   "metadata": {},
   "outputs": [],
   "source": []
  },
  {
   "cell_type": "code",
   "execution_count": null,
   "id": "4f3061a6",
   "metadata": {},
   "outputs": [],
   "source": []
  },
  {
   "cell_type": "code",
   "execution_count": null,
   "id": "60b8f6a3",
   "metadata": {},
   "outputs": [],
   "source": []
  },
  {
   "cell_type": "code",
   "execution_count": null,
   "id": "f3ea8fa0",
   "metadata": {},
   "outputs": [],
   "source": []
  },
  {
   "cell_type": "code",
   "execution_count": null,
   "id": "7eee0395",
   "metadata": {},
   "outputs": [],
   "source": []
  },
  {
   "cell_type": "code",
   "execution_count": null,
   "id": "fad9a536",
   "metadata": {},
   "outputs": [],
   "source": []
  },
  {
   "cell_type": "code",
   "execution_count": null,
   "id": "d71c6996",
   "metadata": {},
   "outputs": [],
   "source": []
  },
  {
   "cell_type": "code",
   "execution_count": null,
   "id": "beffa3b8",
   "metadata": {},
   "outputs": [],
   "source": []
  },
  {
   "cell_type": "code",
   "execution_count": null,
   "id": "06348678",
   "metadata": {},
   "outputs": [],
   "source": []
  },
  {
   "cell_type": "code",
   "execution_count": null,
   "id": "655fc280",
   "metadata": {},
   "outputs": [],
   "source": []
  },
  {
   "cell_type": "code",
   "execution_count": null,
   "id": "ac6d039c",
   "metadata": {},
   "outputs": [],
   "source": []
  },
  {
   "cell_type": "code",
   "execution_count": null,
   "id": "4062f8d2",
   "metadata": {},
   "outputs": [],
   "source": []
  },
  {
   "cell_type": "code",
   "execution_count": null,
   "id": "cc459dc8",
   "metadata": {},
   "outputs": [],
   "source": []
  },
  {
   "cell_type": "code",
   "execution_count": null,
   "id": "0748fd7c",
   "metadata": {},
   "outputs": [],
   "source": []
  },
  {
   "cell_type": "code",
   "execution_count": null,
   "id": "0575208b",
   "metadata": {},
   "outputs": [],
   "source": []
  },
  {
   "cell_type": "code",
   "execution_count": null,
   "id": "dea3b339",
   "metadata": {},
   "outputs": [],
   "source": []
  }
 ],
 "metadata": {
  "kernelspec": {
   "display_name": "Python 3 (ipykernel)",
   "language": "python",
   "name": "python3"
  },
  "language_info": {
   "codemirror_mode": {
    "name": "ipython",
    "version": 3
   },
   "file_extension": ".py",
   "mimetype": "text/x-python",
   "name": "python",
   "nbconvert_exporter": "python",
   "pygments_lexer": "ipython3",
   "version": "3.9.7"
  }
 },
 "nbformat": 4,
 "nbformat_minor": 5
}
