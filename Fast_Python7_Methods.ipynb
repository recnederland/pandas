{
 "cells": [
  {
   "cell_type": "code",
   "execution_count": 1,
   "id": "50f85394",
   "metadata": {},
   "outputs": [],
   "source": [
    "import numpy as np"
   ]
  },
  {
   "cell_type": "code",
   "execution_count": 2,
   "id": "466e89e6",
   "metadata": {},
   "outputs": [],
   "source": [
    "import pandas as pd"
   ]
  },
  {
   "cell_type": "code",
   "execution_count": null,
   "id": "2cefdeff",
   "metadata": {},
   "outputs": [],
   "source": [
    "# methodlar parantezle kullanilir"
   ]
  },
  {
   "cell_type": "code",
   "execution_count": 3,
   "id": "5d26f877",
   "metadata": {},
   "outputs": [],
   "source": [
    "liste = ['a', 'b', 'c', 5, np.nan, 'd']"
   ]
  },
  {
   "cell_type": "code",
   "execution_count": 4,
   "id": "28d0d1ec",
   "metadata": {},
   "outputs": [
    {
     "data": {
      "text/plain": [
       "0      a\n",
       "1      b\n",
       "2      c\n",
       "3      5\n",
       "4    NaN\n",
       "5      d\n",
       "dtype: object"
      ]
     },
     "execution_count": 4,
     "metadata": {},
     "output_type": "execute_result"
    }
   ],
   "source": [
    "pd.Series(liste)"
   ]
  },
  {
   "cell_type": "code",
   "execution_count": 6,
   "id": "cdab66d4",
   "metadata": {},
   "outputs": [],
   "source": [
    "seri = pd.Series(liste)"
   ]
  },
  {
   "cell_type": "code",
   "execution_count": 7,
   "id": "94ae74c8",
   "metadata": {},
   "outputs": [
    {
     "data": {
      "text/plain": [
       "0      a\n",
       "1      b\n",
       "2      c\n",
       "3      5\n",
       "4    NaN\n",
       "dtype: object"
      ]
     },
     "execution_count": 7,
     "metadata": {},
     "output_type": "execute_result"
    }
   ],
   "source": [
    "seri.head()"
   ]
  },
  {
   "cell_type": "code",
   "execution_count": 8,
   "id": "ac235694",
   "metadata": {},
   "outputs": [
    {
     "data": {
      "text/plain": [
       "count     5\n",
       "unique    5\n",
       "top       a\n",
       "freq      1\n",
       "dtype: object"
      ]
     },
     "execution_count": 8,
     "metadata": {},
     "output_type": "execute_result"
    }
   ],
   "source": [
    "seri.describe()"
   ]
  },
  {
   "cell_type": "code",
   "execution_count": 9,
   "id": "1921fb05",
   "metadata": {},
   "outputs": [],
   "source": [
    "liste2 = [10,20,30,40,50,60,70,80,90,100]"
   ]
  },
  {
   "cell_type": "code",
   "execution_count": 10,
   "id": "420d1706",
   "metadata": {},
   "outputs": [],
   "source": [
    "seri2 = pd.Series(liste2)"
   ]
  },
  {
   "cell_type": "code",
   "execution_count": 11,
   "id": "d819eb0a",
   "metadata": {},
   "outputs": [
    {
     "data": {
      "text/plain": [
       "count     10.000000\n",
       "mean      55.000000\n",
       "std       30.276504\n",
       "min       10.000000\n",
       "25%       32.500000\n",
       "50%       55.000000\n",
       "75%       77.500000\n",
       "max      100.000000\n",
       "dtype: float64"
      ]
     },
     "execution_count": 11,
     "metadata": {},
     "output_type": "execute_result"
    }
   ],
   "source": [
    "seri2.describe()"
   ]
  },
  {
   "cell_type": "code",
   "execution_count": 12,
   "id": "f197809f",
   "metadata": {},
   "outputs": [
    {
     "data": {
      "text/plain": [
       "100"
      ]
     },
     "execution_count": 12,
     "metadata": {},
     "output_type": "execute_result"
    }
   ],
   "source": [
    "seri2.max()"
   ]
  },
  {
   "cell_type": "code",
   "execution_count": 14,
   "id": "c70d9127",
   "metadata": {},
   "outputs": [
    {
     "data": {
      "text/plain": [
       "7     80\n",
       "8     90\n",
       "9    100\n",
       "dtype: int64"
      ]
     },
     "execution_count": 14,
     "metadata": {},
     "output_type": "execute_result"
    }
   ],
   "source": [
    "seri2.tail(3)"
   ]
  },
  {
   "cell_type": "code",
   "execution_count": 16,
   "id": "b6971a6a",
   "metadata": {},
   "outputs": [
    {
     "data": {
      "text/plain": [
       "10"
      ]
     },
     "execution_count": 16,
     "metadata": {},
     "output_type": "execute_result"
    }
   ],
   "source": [
    "seri2.min()"
   ]
  },
  {
   "cell_type": "code",
   "execution_count": 18,
   "id": "d5cbb496",
   "metadata": {},
   "outputs": [
    {
     "data": {
      "text/plain": [
       "55.0"
      ]
     },
     "execution_count": 18,
     "metadata": {},
     "output_type": "execute_result"
    }
   ],
   "source": [
    "seri2.mean()"
   ]
  },
  {
   "cell_type": "code",
   "execution_count": null,
   "id": "dab90d7f",
   "metadata": {},
   "outputs": [],
   "source": []
  },
  {
   "cell_type": "code",
   "execution_count": null,
   "id": "c1323a49",
   "metadata": {},
   "outputs": [],
   "source": []
  },
  {
   "cell_type": "code",
   "execution_count": null,
   "id": "772cf455",
   "metadata": {},
   "outputs": [],
   "source": []
  },
  {
   "cell_type": "code",
   "execution_count": null,
   "id": "424745c9",
   "metadata": {},
   "outputs": [],
   "source": []
  },
  {
   "cell_type": "code",
   "execution_count": null,
   "id": "211efac4",
   "metadata": {},
   "outputs": [],
   "source": []
  },
  {
   "cell_type": "code",
   "execution_count": null,
   "id": "515a95f9",
   "metadata": {},
   "outputs": [],
   "source": []
  },
  {
   "cell_type": "code",
   "execution_count": null,
   "id": "0b174624",
   "metadata": {},
   "outputs": [],
   "source": []
  },
  {
   "cell_type": "code",
   "execution_count": null,
   "id": "2441bd1c",
   "metadata": {},
   "outputs": [],
   "source": []
  },
  {
   "cell_type": "code",
   "execution_count": null,
   "id": "676f5fb8",
   "metadata": {},
   "outputs": [],
   "source": []
  },
  {
   "cell_type": "code",
   "execution_count": null,
   "id": "a2e8769a",
   "metadata": {},
   "outputs": [],
   "source": []
  },
  {
   "cell_type": "code",
   "execution_count": null,
   "id": "f3e52d1b",
   "metadata": {},
   "outputs": [],
   "source": []
  },
  {
   "cell_type": "code",
   "execution_count": null,
   "id": "7bd60fd7",
   "metadata": {},
   "outputs": [],
   "source": []
  },
  {
   "cell_type": "code",
   "execution_count": null,
   "id": "d5f7e3d9",
   "metadata": {},
   "outputs": [],
   "source": []
  }
 ],
 "metadata": {
  "kernelspec": {
   "display_name": "Python 3 (ipykernel)",
   "language": "python",
   "name": "python3"
  },
  "language_info": {
   "codemirror_mode": {
    "name": "ipython",
    "version": 3
   },
   "file_extension": ".py",
   "mimetype": "text/x-python",
   "name": "python",
   "nbconvert_exporter": "python",
   "pygments_lexer": "ipython3",
   "version": "3.9.7"
  }
 },
 "nbformat": 4,
 "nbformat_minor": 5
}
