{
 "cells": [
  {
   "cell_type": "code",
   "execution_count": 1,
   "id": "096533dd",
   "metadata": {},
   "outputs": [],
   "source": [
    "import pandas as pd"
   ]
  },
  {
   "cell_type": "code",
   "execution_count": 2,
   "id": "51067d5b",
   "metadata": {},
   "outputs": [],
   "source": [
    "gunlerSerisi = pd.read_csv('gunler.csv', index_col='Gunler', squeeze=True)"
   ]
  },
  {
   "cell_type": "code",
   "execution_count": 3,
   "id": "b9a1e31b",
   "metadata": {},
   "outputs": [
    {
     "data": {
      "text/plain": [
       "Gunler\n",
       "Pazartesi    1\n",
       "Sali         2\n",
       "Carsamba     3\n",
       "Persembe     4\n",
       "Cuma         5\n",
       "Name: Kumbara, dtype: int64"
      ]
     },
     "execution_count": 3,
     "metadata": {},
     "output_type": "execute_result"
    }
   ],
   "source": [
    "gunlerSerisi.head(5)"
   ]
  },
  {
   "cell_type": "code",
   "execution_count": 4,
   "id": "32b9f34c",
   "metadata": {},
   "outputs": [
    {
     "data": {
      "text/plain": [
       "Gunler\n",
       "Sali          2\n",
       "Sali          9\n",
       "Sali         16\n",
       "Sali         23\n",
       "Sali         30\n",
       "           ... \n",
       "Persembe    221\n",
       "Persembe    228\n",
       "Persembe    235\n",
       "Persembe    242\n",
       "Persembe    249\n",
       "Name: Kumbara, Length: 108, dtype: int64"
      ]
     },
     "execution_count": 4,
     "metadata": {},
     "output_type": "execute_result"
    }
   ],
   "source": [
    "gunlerSerisi.get(key = [\"Sali\",\"Carsamba\",\"Persembe\"])"
   ]
  },
  {
   "cell_type": "code",
   "execution_count": 5,
   "id": "fb70626b",
   "metadata": {},
   "outputs": [
    {
     "data": {
      "text/plain": [
       "250"
      ]
     },
     "execution_count": 5,
     "metadata": {},
     "output_type": "execute_result"
    }
   ],
   "source": [
    "len(gunlerSerisi)"
   ]
  },
  {
   "cell_type": "code",
   "execution_count": null,
   "id": "14021c0d",
   "metadata": {},
   "outputs": [],
   "source": [
    "# c1: nan olmayan kac eleman var?"
   ]
  },
  {
   "cell_type": "code",
   "execution_count": 6,
   "id": "f402b902",
   "metadata": {},
   "outputs": [],
   "source": [
    "x = 3"
   ]
  },
  {
   "cell_type": "code",
   "execution_count": 9,
   "id": "9ea0a9c6",
   "metadata": {},
   "outputs": [
    {
     "data": {
      "text/plain": [
       "False"
      ]
     },
     "execution_count": 9,
     "metadata": {},
     "output_type": "execute_result"
    }
   ],
   "source": [
    "x == None"
   ]
  },
  {
   "cell_type": "code",
   "execution_count": 15,
   "id": "88b359f8",
   "metadata": {},
   "outputs": [],
   "source": [
    "sayac:0\n",
    "for gun in gunlerSerisi:\n",
    "    if gun is None:\n",
    "        sayac +=1"
   ]
  },
  {
   "cell_type": "code",
   "execution_count": 17,
   "id": "5061f3c1",
   "metadata": {},
   "outputs": [],
   "source": [
    "# sayac = 0"
   ]
  },
  {
   "cell_type": "code",
   "execution_count": 18,
   "id": "d11d0ed8",
   "metadata": {},
   "outputs": [
    {
     "data": {
      "text/plain": [
       "250"
      ]
     },
     "execution_count": 18,
     "metadata": {},
     "output_type": "execute_result"
    }
   ],
   "source": [
    "len(gunlerSerisi) - sayac"
   ]
  },
  {
   "cell_type": "code",
   "execution_count": null,
   "id": "763748c3",
   "metadata": {},
   "outputs": [],
   "source": [
    "# count methodu kullanalim"
   ]
  },
  {
   "cell_type": "code",
   "execution_count": 19,
   "id": "a53f91a5",
   "metadata": {},
   "outputs": [
    {
     "data": {
      "text/plain": [
       "250"
      ]
     },
     "execution_count": 19,
     "metadata": {},
     "output_type": "execute_result"
    }
   ],
   "source": [
    "gunlerSerisi.count()"
   ]
  },
  {
   "cell_type": "code",
   "execution_count": null,
   "id": "9336e7c3",
   "metadata": {},
   "outputs": [],
   "source": [
    "# NOT: Count nan degerli SAYMAZ iken len nan degerleri de SAYAR"
   ]
  },
  {
   "cell_type": "code",
   "execution_count": null,
   "id": "db8ae2af",
   "metadata": {},
   "outputs": [],
   "source": []
  },
  {
   "cell_type": "code",
   "execution_count": null,
   "id": "9be4a10f",
   "metadata": {},
   "outputs": [],
   "source": []
  },
  {
   "cell_type": "code",
   "execution_count": null,
   "id": "428be603",
   "metadata": {},
   "outputs": [],
   "source": []
  },
  {
   "cell_type": "code",
   "execution_count": null,
   "id": "df8d373e",
   "metadata": {},
   "outputs": [],
   "source": []
  }
 ],
 "metadata": {
  "kernelspec": {
   "display_name": "Python 3 (ipykernel)",
   "language": "python",
   "name": "python3"
  },
  "language_info": {
   "codemirror_mode": {
    "name": "ipython",
    "version": 3
   },
   "file_extension": ".py",
   "mimetype": "text/x-python",
   "name": "python",
   "nbconvert_exporter": "python",
   "pygments_lexer": "ipython3",
   "version": "3.9.7"
  }
 },
 "nbformat": 4,
 "nbformat_minor": 5
}
