{
 "cells": [
  {
   "cell_type": "code",
   "execution_count": 1,
   "id": "ba75669c",
   "metadata": {},
   "outputs": [],
   "source": [
    "import pandas as pd"
   ]
  },
  {
   "cell_type": "code",
   "execution_count": 2,
   "id": "21ade258",
   "metadata": {},
   "outputs": [],
   "source": [
    "gunlerSerisi = pd.read_csv('gunler.csv', index_col='Gunler', squeeze=True)"
   ]
  },
  {
   "cell_type": "code",
   "execution_count": 3,
   "id": "067f8425",
   "metadata": {},
   "outputs": [
    {
     "data": {
      "text/plain": [
       "Gunler\n",
       "Pazartesi      1\n",
       "Sali           2\n",
       "Carsamba       3\n",
       "Persembe       4\n",
       "Cuma           5\n",
       "            ... \n",
       "Pazartesi    246\n",
       "Sali         247\n",
       "Carsamba     248\n",
       "Persembe     249\n",
       "Cuma         250\n",
       "Name: Kumbara, Length: 250, dtype: int64"
      ]
     },
     "execution_count": 3,
     "metadata": {},
     "output_type": "execute_result"
    }
   ],
   "source": [
    "gunlerSerisi"
   ]
  },
  {
   "cell_type": "code",
   "execution_count": null,
   "id": "5a400330",
   "metadata": {},
   "outputs": [],
   "source": [
    "# get serilerde tablolarda dataframelerde kullanilabilir"
   ]
  },
  {
   "cell_type": "code",
   "execution_count": 4,
   "id": "0a21cf68",
   "metadata": {},
   "outputs": [
    {
     "data": {
      "text/plain": [
       "Gunler\n",
       "Pazartesi    1\n",
       "Sali         2\n",
       "Carsamba     3\n",
       "Persembe     4\n",
       "Cuma         5\n",
       "Name: Kumbara, dtype: int64"
      ]
     },
     "execution_count": 4,
     "metadata": {},
     "output_type": "execute_result"
    }
   ],
   "source": [
    "gunlerSerisi.head(5)"
   ]
  },
  {
   "cell_type": "code",
   "execution_count": 5,
   "id": "62611efb",
   "metadata": {},
   "outputs": [
    {
     "data": {
      "text/plain": [
       "2"
      ]
     },
     "execution_count": 5,
     "metadata": {},
     "output_type": "execute_result"
    }
   ],
   "source": [
    "gunlerSerisi.get(1)"
   ]
  },
  {
   "cell_type": "code",
   "execution_count": 6,
   "id": "343ae1eb",
   "metadata": {},
   "outputs": [
    {
     "data": {
      "text/plain": [
       "1"
      ]
     },
     "execution_count": 6,
     "metadata": {},
     "output_type": "execute_result"
    }
   ],
   "source": [
    "gunlerSerisi.get(0)"
   ]
  },
  {
   "cell_type": "code",
   "execution_count": 13,
   "id": "c5980632",
   "metadata": {},
   "outputs": [
    {
     "data": {
      "text/plain": [
       "250"
      ]
     },
     "execution_count": 13,
     "metadata": {},
     "output_type": "execute_result"
    }
   ],
   "source": [
    "gunlerSerisi.get(249)"
   ]
  },
  {
   "cell_type": "code",
   "execution_count": 17,
   "id": "859fa11f",
   "metadata": {},
   "outputs": [
    {
     "data": {
      "text/plain": [
       "Gunler\n",
       "Pazartesi     1\n",
       "Persembe     11\n",
       "Sali         16\n",
       "Name: Kumbara, dtype: int64"
      ]
     },
     "execution_count": 17,
     "metadata": {},
     "output_type": "execute_result"
    }
   ],
   "source": [
    "gunlerSerisi.get([0,10,15])  # out is a serie to"
   ]
  },
  {
   "cell_type": "code",
   "execution_count": 18,
   "id": "30da4df3",
   "metadata": {},
   "outputs": [
    {
     "data": {
      "text/plain": [
       "Gunler\n",
       "Cuma      5\n",
       "Cuma     12\n",
       "Cuma     19\n",
       "Cuma     26\n",
       "Cuma     33\n",
       "       ... \n",
       "Sali    219\n",
       "Sali    226\n",
       "Sali    233\n",
       "Sali    240\n",
       "Sali    247\n",
       "Name: Kumbara, Length: 72, dtype: int64"
      ]
     },
     "execution_count": 18,
     "metadata": {},
     "output_type": "execute_result"
    }
   ],
   "source": [
    "gunlerSerisi.get(['Cuma','Sali'])"
   ]
  },
  {
   "cell_type": "code",
   "execution_count": 19,
   "id": "82ee5680",
   "metadata": {},
   "outputs": [
    {
     "data": {
      "text/plain": [
       "Gunler\n",
       "Pazar      7\n",
       "Pazar     14\n",
       "Pazar     21\n",
       "Pazar     28\n",
       "Pazar     35\n",
       "Pazar     42\n",
       "Pazar     49\n",
       "Pazar     56\n",
       "Pazar     63\n",
       "Pazar     70\n",
       "Pazar     77\n",
       "Pazar     84\n",
       "Pazar     91\n",
       "Pazar     98\n",
       "Pazar    105\n",
       "Pazar    112\n",
       "Pazar    119\n",
       "Pazar    126\n",
       "Pazar    133\n",
       "Pazar    140\n",
       "Pazar    147\n",
       "Pazar    154\n",
       "Pazar    161\n",
       "Pazar    168\n",
       "Pazar    175\n",
       "Pazar    182\n",
       "Pazar    189\n",
       "Pazar    196\n",
       "Pazar    203\n",
       "Pazar    210\n",
       "Pazar    217\n",
       "Pazar    224\n",
       "Pazar    231\n",
       "Pazar    238\n",
       "Pazar    245\n",
       "Name: Kumbara, dtype: int64"
      ]
     },
     "execution_count": 19,
     "metadata": {},
     "output_type": "execute_result"
    }
   ],
   "source": [
    "gunlerSerisi.get(['Pazar'])"
   ]
  },
  {
   "cell_type": "code",
   "execution_count": 21,
   "id": "9f2f4b59",
   "metadata": {},
   "outputs": [
    {
     "data": {
      "text/plain": [
       "pandas.core.series.Series"
      ]
     },
     "execution_count": 21,
     "metadata": {},
     "output_type": "execute_result"
    }
   ],
   "source": [
    "type(gunlerSerisi.get('Pazar'))"
   ]
  },
  {
   "cell_type": "code",
   "execution_count": 22,
   "id": "77c361e3",
   "metadata": {},
   "outputs": [
    {
     "data": {
      "text/plain": [
       "NoneType"
      ]
     },
     "execution_count": 22,
     "metadata": {},
     "output_type": "execute_result"
    }
   ],
   "source": [
    "type(gunlerSerisi.get('Sunday'))"
   ]
  },
  {
   "cell_type": "code",
   "execution_count": null,
   "id": "c27b0fbd",
   "metadata": {},
   "outputs": [],
   "source": [
    "# default parametresi none oldugu icin birsey bulamadiginda NoneType dondurur"
   ]
  },
  {
   "cell_type": "code",
   "execution_count": 23,
   "id": "bc070982",
   "metadata": {},
   "outputs": [
    {
     "data": {
      "text/plain": [
       "'Error, dont fount it'"
      ]
     },
     "execution_count": 23,
     "metadata": {},
     "output_type": "execute_result"
    }
   ],
   "source": [
    "gunlerSerisi.get('Sunday', default=\"Error, dont fount it\")"
   ]
  },
  {
   "cell_type": "code",
   "execution_count": 24,
   "id": "1811aba1",
   "metadata": {},
   "outputs": [
    {
     "data": {
      "text/plain": [
       "Gunler\n",
       "Pazartesi      1\n",
       "Pazartesi      8\n",
       "Pazartesi     15\n",
       "Pazartesi     22\n",
       "Pazartesi     29\n",
       "            ... \n",
       "Sali         219\n",
       "Sali         226\n",
       "Sali         233\n",
       "Sali         240\n",
       "Sali         247\n",
       "Name: Kumbara, Length: 72, dtype: int64"
      ]
     },
     "execution_count": 24,
     "metadata": {},
     "output_type": "execute_result"
    }
   ],
   "source": [
    "gunlerSerisi.get(key = ['Pazartesi', 'Sali'], default=\"Error, dont fount it\")"
   ]
  },
  {
   "cell_type": "code",
   "execution_count": 25,
   "id": "b28ea7ce",
   "metadata": {},
   "outputs": [
    {
     "data": {
      "text/plain": [
       "'Error, dont fount it'"
      ]
     },
     "execution_count": 25,
     "metadata": {},
     "output_type": "execute_result"
    }
   ],
   "source": [
    "gunlerSerisi.get(key = ['Pazartesi', 'Sali', 'Thursday'], default=\"Error, dont fount it\")"
   ]
  },
  {
   "cell_type": "code",
   "execution_count": null,
   "id": "4bcb9eb1",
   "metadata": {},
   "outputs": [],
   "source": []
  },
  {
   "cell_type": "code",
   "execution_count": null,
   "id": "644dbb4b",
   "metadata": {},
   "outputs": [],
   "source": []
  },
  {
   "cell_type": "code",
   "execution_count": null,
   "id": "128c4ac5",
   "metadata": {},
   "outputs": [],
   "source": []
  },
  {
   "cell_type": "code",
   "execution_count": null,
   "id": "7c8f8999",
   "metadata": {},
   "outputs": [],
   "source": []
  },
  {
   "cell_type": "code",
   "execution_count": null,
   "id": "f9141d22",
   "metadata": {},
   "outputs": [],
   "source": []
  },
  {
   "cell_type": "code",
   "execution_count": null,
   "id": "5e6d839c",
   "metadata": {},
   "outputs": [],
   "source": []
  },
  {
   "cell_type": "code",
   "execution_count": null,
   "id": "cd2f55b7",
   "metadata": {},
   "outputs": [],
   "source": []
  },
  {
   "cell_type": "code",
   "execution_count": null,
   "id": "20529876",
   "metadata": {},
   "outputs": [],
   "source": []
  },
  {
   "cell_type": "code",
   "execution_count": null,
   "id": "1d9f1245",
   "metadata": {},
   "outputs": [],
   "source": []
  },
  {
   "cell_type": "code",
   "execution_count": null,
   "id": "c41adcb0",
   "metadata": {},
   "outputs": [],
   "source": []
  },
  {
   "cell_type": "code",
   "execution_count": null,
   "id": "4c19a985",
   "metadata": {},
   "outputs": [],
   "source": []
  },
  {
   "cell_type": "code",
   "execution_count": null,
   "id": "f89156cd",
   "metadata": {},
   "outputs": [],
   "source": []
  },
  {
   "cell_type": "code",
   "execution_count": null,
   "id": "fef41c01",
   "metadata": {},
   "outputs": [],
   "source": []
  },
  {
   "cell_type": "code",
   "execution_count": null,
   "id": "65cd8aa4",
   "metadata": {},
   "outputs": [],
   "source": []
  },
  {
   "cell_type": "code",
   "execution_count": null,
   "id": "b0640be4",
   "metadata": {},
   "outputs": [],
   "source": []
  },
  {
   "cell_type": "code",
   "execution_count": null,
   "id": "07b89f03",
   "metadata": {},
   "outputs": [],
   "source": []
  },
  {
   "cell_type": "code",
   "execution_count": null,
   "id": "ace35402",
   "metadata": {},
   "outputs": [],
   "source": []
  },
  {
   "cell_type": "code",
   "execution_count": null,
   "id": "fca47d9c",
   "metadata": {},
   "outputs": [],
   "source": []
  },
  {
   "cell_type": "code",
   "execution_count": null,
   "id": "56aebcfe",
   "metadata": {},
   "outputs": [],
   "source": []
  },
  {
   "cell_type": "code",
   "execution_count": null,
   "id": "484f9833",
   "metadata": {},
   "outputs": [],
   "source": []
  },
  {
   "cell_type": "code",
   "execution_count": null,
   "id": "849f1d4b",
   "metadata": {},
   "outputs": [],
   "source": []
  },
  {
   "cell_type": "code",
   "execution_count": null,
   "id": "0c47512c",
   "metadata": {},
   "outputs": [],
   "source": []
  },
  {
   "cell_type": "code",
   "execution_count": null,
   "id": "9ba5c5f8",
   "metadata": {},
   "outputs": [],
   "source": []
  },
  {
   "cell_type": "code",
   "execution_count": null,
   "id": "8622343a",
   "metadata": {},
   "outputs": [],
   "source": []
  },
  {
   "cell_type": "code",
   "execution_count": null,
   "id": "ef4316e1",
   "metadata": {},
   "outputs": [],
   "source": []
  }
 ],
 "metadata": {
  "kernelspec": {
   "display_name": "Python 3 (ipykernel)",
   "language": "python",
   "name": "python3"
  },
  "language_info": {
   "codemirror_mode": {
    "name": "ipython",
    "version": 3
   },
   "file_extension": ".py",
   "mimetype": "text/x-python",
   "name": "python",
   "nbconvert_exporter": "python",
   "pygments_lexer": "ipython3",
   "version": "3.9.7"
  }
 },
 "nbformat": 4,
 "nbformat_minor": 5
}
