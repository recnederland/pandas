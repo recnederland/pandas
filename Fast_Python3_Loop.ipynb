{
 "cells": [
  {
   "cell_type": "code",
   "execution_count": 22,
   "id": "4d34eef0",
   "metadata": {},
   "outputs": [],
   "source": [
    "ages = [30,30,40,25,25,60,64,25,35,38,28,29,35,37,39,45,46]"
   ]
  },
  {
   "cell_type": "code",
   "execution_count": 23,
   "id": "c3cb1c6e",
   "metadata": {},
   "outputs": [
    {
     "data": {
      "text/plain": [
       "[30, 30, 40, 25, 25, 60, 64, 25, 35, 38, 28, 29, 35, 37, 39, 45, 46]"
      ]
     },
     "execution_count": 23,
     "metadata": {},
     "output_type": "execute_result"
    }
   ],
   "source": [
    "ages"
   ]
  },
  {
   "cell_type": "code",
   "execution_count": null,
   "id": "b44dec53",
   "metadata": {},
   "outputs": [],
   "source": [
    "# c1: 25 ustunu yazdir\n",
    "# c2: kac tane 65 ustu var\n",
    "# c3: yas ortalamasini bul\n",
    "# c4: en yuksek yasi ve hangi indexte oldugunu bul"
   ]
  },
  {
   "cell_type": "code",
   "execution_count": 61,
   "id": "de9d29ba",
   "metadata": {},
   "outputs": [
    {
     "name": "stdout",
     "output_type": "stream",
     "text": [
      "30.0\n",
      "30.0\n",
      "33.333333333333336\n",
      "31.25\n",
      "30.0\n",
      "35.0\n",
      "39.142857142857146\n",
      "37.375\n",
      "37.111111111111114\n",
      "37.2\n",
      "36.36363636363637\n",
      "35.75\n",
      "35.69230769230769\n",
      "35.785714285714285\n",
      "36.0\n",
      "36.5625\n",
      "37.11764705882353\n"
     ]
    }
   ],
   "source": [
    "nom = 0\n",
    "ageToplam = 0\n",
    "for age in ages:\n",
    "    if age > 20:\n",
    "        \n",
    "        nom +=1\n",
    "        ageToplam = age + ageToplam\n",
    "        print(ageToplam / nom)"
   ]
  },
  {
   "cell_type": "code",
   "execution_count": 62,
   "id": "197337ba",
   "metadata": {},
   "outputs": [
    {
     "name": "stdout",
     "output_type": "stream",
     "text": [
      "37.11764705882353\n"
     ]
    }
   ],
   "source": [
    "print(ageToplam / nom)"
   ]
  },
  {
   "cell_type": "code",
   "execution_count": 60,
   "id": "e988a369",
   "metadata": {},
   "outputs": [
    {
     "data": {
      "text/plain": [
       "631"
      ]
     },
     "execution_count": 60,
     "metadata": {},
     "output_type": "execute_result"
    }
   ],
   "source": [
    "ageToplam"
   ]
  },
  {
   "cell_type": "code",
   "execution_count": 55,
   "id": "703537b0",
   "metadata": {},
   "outputs": [
    {
     "data": {
      "text/plain": [
       "17"
      ]
     },
     "execution_count": 55,
     "metadata": {},
     "output_type": "execute_result"
    }
   ],
   "source": [
    "nom"
   ]
  },
  {
   "cell_type": "code",
   "execution_count": 30,
   "id": "7e540a28",
   "metadata": {},
   "outputs": [],
   "source": [
    "yaslar = [30,30,40,25,25,60,64,25,35,38,28,29,35,37,39,45,46]"
   ]
  },
  {
   "cell_type": "code",
   "execution_count": 66,
   "id": "5cebd43e",
   "metadata": {},
   "outputs": [
    {
     "name": "stdout",
     "output_type": "stream",
     "text": [
      "30\n",
      "30\n",
      "40\n",
      "25\n",
      "25\n",
      "25\n",
      "35\n",
      "38\n",
      "28\n",
      "29\n",
      "35\n",
      "37\n",
      "39\n",
      "45\n",
      "46\n"
     ]
    }
   ],
   "source": [
    "sayac = 0\n",
    "for yas in yaslar:\n",
    "    if yas < 50:\n",
    "        print(yas)\n",
    "        sayac +=1"
   ]
  },
  {
   "cell_type": "code",
   "execution_count": 56,
   "id": "15ba8a37",
   "metadata": {},
   "outputs": [
    {
     "data": {
      "text/plain": [
       "15"
      ]
     },
     "execution_count": 56,
     "metadata": {},
     "output_type": "execute_result"
    }
   ],
   "source": [
    "sayac"
   ]
  },
  {
   "cell_type": "code",
   "execution_count": 34,
   "id": "e54d044d",
   "metadata": {},
   "outputs": [
    {
     "name": "stdout",
     "output_type": "stream",
     "text": [
      "[30, 30, 40, 25, 25, 60, 64, 25, 35, 38, 28, 29, 35, 37, 39, 45, 46]\n"
     ]
    }
   ],
   "source": [
    "print(ages)"
   ]
  },
  {
   "cell_type": "code",
   "execution_count": 35,
   "id": "0274fb72",
   "metadata": {},
   "outputs": [
    {
     "name": "stdout",
     "output_type": "stream",
     "text": [
      "[30, 30, 40, 25, 25, 60, 64, 25, 35, 38, 28, 29, 35, 37, 39, 45, 46]\n"
     ]
    }
   ],
   "source": [
    "print(yaslar)"
   ]
  },
  {
   "cell_type": "code",
   "execution_count": null,
   "id": "f5b796a7",
   "metadata": {},
   "outputs": [],
   "source": []
  },
  {
   "cell_type": "code",
   "execution_count": 71,
   "id": "08ef91a8",
   "metadata": {},
   "outputs": [
    {
     "name": "stdout",
     "output_type": "stream",
     "text": [
      "30\n",
      "30\n",
      "40\n",
      "25\n",
      "25\n",
      "60\n",
      "64\n",
      "25\n",
      "35\n",
      "38\n",
      "28\n",
      "29\n",
      "35\n",
      "37\n",
      "39\n",
      "45\n",
      "46\n"
     ]
    }
   ],
   "source": [
    "nom = 0\n",
    "for age in ages:\n",
    "    if age > 20:\n",
    "        nom += 1\n",
    "        print(age)"
   ]
  },
  {
   "cell_type": "code",
   "execution_count": null,
   "id": "f4f8efe8",
   "metadata": {},
   "outputs": [],
   "source": []
  },
  {
   "cell_type": "code",
   "execution_count": null,
   "id": "08adfa79",
   "metadata": {},
   "outputs": [],
   "source": [
    "# FOR 2"
   ]
  },
  {
   "cell_type": "code",
   "execution_count": 72,
   "id": "09622d18",
   "metadata": {},
   "outputs": [
    {
     "name": "stdout",
     "output_type": "stream",
     "text": [
      "0\n",
      "1\n",
      "2\n",
      "3\n",
      "4\n",
      "5\n",
      "6\n",
      "7\n",
      "8\n",
      "9\n"
     ]
    }
   ],
   "source": [
    "for i in range(0, 10):\n",
    "    print(i)"
   ]
  },
  {
   "cell_type": "code",
   "execution_count": 76,
   "id": "9509f67c",
   "metadata": {},
   "outputs": [
    {
     "name": "stdout",
     "output_type": "stream",
     "text": [
      "30\n",
      "30\n",
      "40\n",
      "25\n",
      "25\n",
      "60\n",
      "64\n",
      "25\n",
      "35\n",
      "38\n",
      "28\n",
      "29\n",
      "35\n",
      "37\n",
      "39\n",
      "45\n",
      "46\n"
     ]
    }
   ],
   "source": [
    "for i in range(0, len(ages)):\n",
    "    print(ages[i])"
   ]
  },
  {
   "cell_type": "code",
   "execution_count": 77,
   "id": "8daa8044",
   "metadata": {},
   "outputs": [],
   "source": [
    "maxYas=0\n",
    "index = 0\n",
    "\n",
    "for i in range(0, len(yaslar)):\n",
    "    if maxYas< yaslar[i]:\n",
    "        maxYas = yaslar[i]\n",
    "        index = i"
   ]
  },
  {
   "cell_type": "code",
   "execution_count": 79,
   "id": "e4c4f8aa",
   "metadata": {},
   "outputs": [
    {
     "data": {
      "text/plain": [
       "64"
      ]
     },
     "execution_count": 79,
     "metadata": {},
     "output_type": "execute_result"
    }
   ],
   "source": [
    "maxYas"
   ]
  },
  {
   "cell_type": "code",
   "execution_count": 80,
   "id": "8506ab03",
   "metadata": {},
   "outputs": [
    {
     "data": {
      "text/plain": [
       "6"
      ]
     },
     "execution_count": 80,
     "metadata": {},
     "output_type": "execute_result"
    }
   ],
   "source": [
    "index"
   ]
  },
  {
   "cell_type": "code",
   "execution_count": null,
   "id": "55064a11",
   "metadata": {},
   "outputs": [],
   "source": []
  },
  {
   "cell_type": "code",
   "execution_count": null,
   "id": "c92edce9",
   "metadata": {},
   "outputs": [],
   "source": [
    "# WHILE DONGUSU"
   ]
  },
  {
   "cell_type": "code",
   "execution_count": 81,
   "id": "ebed04ea",
   "metadata": {},
   "outputs": [],
   "source": [
    "x = 1"
   ]
  },
  {
   "cell_type": "code",
   "execution_count": 82,
   "id": "75c0a7b6",
   "metadata": {},
   "outputs": [
    {
     "name": "stdout",
     "output_type": "stream",
     "text": [
      "1\n",
      "2\n",
      "3\n",
      "4\n",
      "5\n",
      "6\n",
      "7\n",
      "8\n",
      "9\n"
     ]
    }
   ],
   "source": [
    "while x < 10:\n",
    "    print(x)\n",
    "    x += 1"
   ]
  },
  {
   "cell_type": "code",
   "execution_count": null,
   "id": "e3ec5c34",
   "metadata": {},
   "outputs": [],
   "source": []
  },
  {
   "cell_type": "code",
   "execution_count": null,
   "id": "e149b559",
   "metadata": {},
   "outputs": [],
   "source": []
  },
  {
   "cell_type": "code",
   "execution_count": null,
   "id": "f340a584",
   "metadata": {},
   "outputs": [],
   "source": []
  },
  {
   "cell_type": "code",
   "execution_count": null,
   "id": "2e7d293c",
   "metadata": {},
   "outputs": [],
   "source": []
  },
  {
   "cell_type": "code",
   "execution_count": null,
   "id": "37ae4586",
   "metadata": {},
   "outputs": [],
   "source": []
  },
  {
   "cell_type": "code",
   "execution_count": null,
   "id": "bef8e1d1",
   "metadata": {},
   "outputs": [],
   "source": []
  },
  {
   "cell_type": "code",
   "execution_count": null,
   "id": "7cc0322c",
   "metadata": {},
   "outputs": [],
   "source": []
  },
  {
   "cell_type": "code",
   "execution_count": null,
   "id": "43caf9c1",
   "metadata": {},
   "outputs": [],
   "source": []
  },
  {
   "cell_type": "code",
   "execution_count": null,
   "id": "720de066",
   "metadata": {},
   "outputs": [],
   "source": []
  },
  {
   "cell_type": "code",
   "execution_count": null,
   "id": "cccb51ca",
   "metadata": {},
   "outputs": [],
   "source": []
  },
  {
   "cell_type": "code",
   "execution_count": null,
   "id": "ab136c72",
   "metadata": {},
   "outputs": [],
   "source": []
  },
  {
   "cell_type": "code",
   "execution_count": null,
   "id": "709f4d3b",
   "metadata": {},
   "outputs": [],
   "source": []
  },
  {
   "cell_type": "code",
   "execution_count": null,
   "id": "4a7fbaa1",
   "metadata": {},
   "outputs": [],
   "source": []
  },
  {
   "cell_type": "code",
   "execution_count": null,
   "id": "e1fc878a",
   "metadata": {},
   "outputs": [],
   "source": []
  },
  {
   "cell_type": "code",
   "execution_count": null,
   "id": "b739f333",
   "metadata": {},
   "outputs": [],
   "source": []
  },
  {
   "cell_type": "code",
   "execution_count": null,
   "id": "8f0ff89d",
   "metadata": {},
   "outputs": [],
   "source": []
  },
  {
   "cell_type": "code",
   "execution_count": null,
   "id": "fca9dad4",
   "metadata": {},
   "outputs": [],
   "source": []
  },
  {
   "cell_type": "code",
   "execution_count": null,
   "id": "f857f656",
   "metadata": {},
   "outputs": [],
   "source": []
  },
  {
   "cell_type": "code",
   "execution_count": null,
   "id": "f3d1a011",
   "metadata": {},
   "outputs": [],
   "source": []
  },
  {
   "cell_type": "code",
   "execution_count": null,
   "id": "c972995b",
   "metadata": {},
   "outputs": [],
   "source": []
  },
  {
   "cell_type": "code",
   "execution_count": null,
   "id": "b13859b8",
   "metadata": {},
   "outputs": [],
   "source": []
  },
  {
   "cell_type": "code",
   "execution_count": null,
   "id": "c985e5ef",
   "metadata": {},
   "outputs": [],
   "source": []
  },
  {
   "cell_type": "code",
   "execution_count": null,
   "id": "13fa5364",
   "metadata": {},
   "outputs": [],
   "source": []
  },
  {
   "cell_type": "code",
   "execution_count": null,
   "id": "88dbe999",
   "metadata": {},
   "outputs": [],
   "source": []
  },
  {
   "cell_type": "code",
   "execution_count": null,
   "id": "a297a660",
   "metadata": {},
   "outputs": [],
   "source": []
  },
  {
   "cell_type": "code",
   "execution_count": null,
   "id": "8ce63ce7",
   "metadata": {},
   "outputs": [],
   "source": []
  },
  {
   "cell_type": "code",
   "execution_count": null,
   "id": "3803487e",
   "metadata": {},
   "outputs": [],
   "source": []
  },
  {
   "cell_type": "code",
   "execution_count": null,
   "id": "8db704b8",
   "metadata": {},
   "outputs": [],
   "source": []
  },
  {
   "cell_type": "code",
   "execution_count": null,
   "id": "971dd0ae",
   "metadata": {},
   "outputs": [],
   "source": []
  },
  {
   "cell_type": "code",
   "execution_count": null,
   "id": "5dc28c1b",
   "metadata": {},
   "outputs": [],
   "source": []
  },
  {
   "cell_type": "code",
   "execution_count": null,
   "id": "819d7b61",
   "metadata": {},
   "outputs": [],
   "source": []
  },
  {
   "cell_type": "code",
   "execution_count": null,
   "id": "eb7a514c",
   "metadata": {},
   "outputs": [],
   "source": []
  },
  {
   "cell_type": "code",
   "execution_count": null,
   "id": "9d39c66f",
   "metadata": {},
   "outputs": [],
   "source": []
  }
 ],
 "metadata": {
  "kernelspec": {
   "display_name": "Python 3 (ipykernel)",
   "language": "python",
   "name": "python3"
  },
  "language_info": {
   "codemirror_mode": {
    "name": "ipython",
    "version": 3
   },
   "file_extension": ".py",
   "mimetype": "text/x-python",
   "name": "python",
   "nbconvert_exporter": "python",
   "pygments_lexer": "ipython3",
   "version": "3.9.7"
  }
 },
 "nbformat": 4,
 "nbformat_minor": 5
}
