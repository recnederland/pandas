{
 "cells": [
  {
   "cell_type": "code",
   "execution_count": 1,
   "id": "5d574c8c",
   "metadata": {},
   "outputs": [],
   "source": [
    "import pandas as pd"
   ]
  },
  {
   "cell_type": "code",
   "execution_count": 7,
   "id": "5b323af3",
   "metadata": {},
   "outputs": [],
   "source": [
    "calisanlar = ['burak', 'sinem', 'ali', 'vedat', 'kerem', 'gizem', 'birgul']"
   ]
  },
  {
   "cell_type": "code",
   "execution_count": 8,
   "id": "1b4fa6a4",
   "metadata": {},
   "outputs": [],
   "source": [
    "calisanlarSerisi = pd.Series(calisanlar)"
   ]
  },
  {
   "cell_type": "code",
   "execution_count": 9,
   "id": "1684cf2f",
   "metadata": {},
   "outputs": [
    {
     "data": {
      "text/plain": [
       "'sinem'"
      ]
     },
     "execution_count": 9,
     "metadata": {},
     "output_type": "execute_result"
    }
   ],
   "source": [
    "calisanlarSerisi[1]"
   ]
  },
  {
   "cell_type": "code",
   "execution_count": 10,
   "id": "a81f5080",
   "metadata": {},
   "outputs": [
    {
     "data": {
      "text/plain": [
       "0     burak\n",
       "1     sinem\n",
       "2       ali\n",
       "3     vedat\n",
       "4     kerem\n",
       "5     gizem\n",
       "6    birgul\n",
       "dtype: object"
      ]
     },
     "execution_count": 10,
     "metadata": {},
     "output_type": "execute_result"
    }
   ],
   "source": [
    "calisanlarSerisi"
   ]
  },
  {
   "cell_type": "code",
   "execution_count": null,
   "id": "9bb1a253",
   "metadata": {},
   "outputs": [],
   "source": [
    "# sirkette yapilan yilbasi cekilisinde sonuclar"
   ]
  },
  {
   "cell_type": "code",
   "execution_count": 11,
   "id": "f3ad1d15",
   "metadata": {},
   "outputs": [],
   "source": [
    "kuraSonucu = {'burak':5, 'sinem':2, 'ali':1, 'vedat':6, 'kerem':3,'gizem':4, 'birgul':0 }"
   ]
  },
  {
   "cell_type": "code",
   "execution_count": 12,
   "id": "996f8c12",
   "metadata": {},
   "outputs": [],
   "source": [
    "kuraSerisi = pd.Series(kuraSonucu)"
   ]
  },
  {
   "cell_type": "code",
   "execution_count": 13,
   "id": "69d3d3f5",
   "metadata": {},
   "outputs": [
    {
     "data": {
      "text/plain": [
       "burak     5\n",
       "sinem     2\n",
       "ali       1\n",
       "vedat     6\n",
       "kerem     3\n",
       "gizem     4\n",
       "birgul    0\n",
       "dtype: int64"
      ]
     },
     "execution_count": 13,
     "metadata": {},
     "output_type": "execute_result"
    }
   ],
   "source": [
    "kuraSerisi"
   ]
  },
  {
   "cell_type": "code",
   "execution_count": null,
   "id": "2a9f46aa",
   "metadata": {},
   "outputs": [],
   "source": [
    "# simdi yukarida burak 5 nolu kisiye yani gizeme hediye alicak.\n",
    "# Biz 5 nolu kisi degilde karsininda isimler yazsin istersek map kullanabiliriz\n",
    "# map iki seri arasinda yapilir, soldaki seri solda kalir"
   ]
  },
  {
   "cell_type": "code",
   "execution_count": 14,
   "id": "a831d62d",
   "metadata": {},
   "outputs": [
    {
     "data": {
      "text/plain": [
       "burak      gizem\n",
       "sinem        ali\n",
       "ali        sinem\n",
       "vedat     birgul\n",
       "kerem      vedat\n",
       "gizem      kerem\n",
       "birgul     burak\n",
       "dtype: object"
      ]
     },
     "execution_count": 14,
     "metadata": {},
     "output_type": "execute_result"
    }
   ],
   "source": [
    "kuraSerisi.map(calisanlarSerisi)"
   ]
  },
  {
   "cell_type": "code",
   "execution_count": 15,
   "id": "9b160ea5",
   "metadata": {},
   "outputs": [
    {
     "data": {
      "text/plain": [
       "0    5\n",
       "1    2\n",
       "2    1\n",
       "3    6\n",
       "4    3\n",
       "5    4\n",
       "6    0\n",
       "dtype: int64"
      ]
     },
     "execution_count": 15,
     "metadata": {},
     "output_type": "execute_result"
    }
   ],
   "source": [
    "calisanlarSerisi.map(kuraSerisi)"
   ]
  },
  {
   "cell_type": "code",
   "execution_count": null,
   "id": "0f8120b3",
   "metadata": {},
   "outputs": [],
   "source": [
    "# son ornegimizde sayilar index oldugu icin onun uzerinden islem yapilmis oldu"
   ]
  },
  {
   "cell_type": "code",
   "execution_count": null,
   "id": "fbefc7fc",
   "metadata": {},
   "outputs": [],
   "source": []
  },
  {
   "cell_type": "code",
   "execution_count": null,
   "id": "ec6c6485",
   "metadata": {},
   "outputs": [],
   "source": []
  },
  {
   "cell_type": "code",
   "execution_count": null,
   "id": "41940b9c",
   "metadata": {},
   "outputs": [],
   "source": []
  },
  {
   "cell_type": "code",
   "execution_count": null,
   "id": "7628bb3b",
   "metadata": {},
   "outputs": [],
   "source": []
  },
  {
   "cell_type": "code",
   "execution_count": null,
   "id": "b40dd324",
   "metadata": {},
   "outputs": [],
   "source": []
  },
  {
   "cell_type": "code",
   "execution_count": null,
   "id": "e9343d0c",
   "metadata": {},
   "outputs": [],
   "source": []
  },
  {
   "cell_type": "code",
   "execution_count": null,
   "id": "1ae1825f",
   "metadata": {},
   "outputs": [],
   "source": []
  },
  {
   "cell_type": "code",
   "execution_count": null,
   "id": "5da63a0f",
   "metadata": {},
   "outputs": [],
   "source": []
  },
  {
   "cell_type": "code",
   "execution_count": null,
   "id": "b8d090a5",
   "metadata": {},
   "outputs": [],
   "source": []
  },
  {
   "cell_type": "code",
   "execution_count": null,
   "id": "d154b8c4",
   "metadata": {},
   "outputs": [],
   "source": []
  },
  {
   "cell_type": "code",
   "execution_count": null,
   "id": "0278da32",
   "metadata": {},
   "outputs": [],
   "source": []
  },
  {
   "cell_type": "code",
   "execution_count": null,
   "id": "64bff4bc",
   "metadata": {},
   "outputs": [],
   "source": []
  },
  {
   "cell_type": "code",
   "execution_count": null,
   "id": "d9ee313d",
   "metadata": {},
   "outputs": [],
   "source": []
  },
  {
   "cell_type": "code",
   "execution_count": null,
   "id": "d24d00aa",
   "metadata": {},
   "outputs": [],
   "source": []
  },
  {
   "cell_type": "code",
   "execution_count": null,
   "id": "43934f13",
   "metadata": {},
   "outputs": [],
   "source": []
  },
  {
   "cell_type": "code",
   "execution_count": null,
   "id": "78cd0ed9",
   "metadata": {},
   "outputs": [],
   "source": []
  },
  {
   "cell_type": "code",
   "execution_count": null,
   "id": "0bfb2cb5",
   "metadata": {},
   "outputs": [],
   "source": []
  },
  {
   "cell_type": "code",
   "execution_count": null,
   "id": "486d8d80",
   "metadata": {},
   "outputs": [],
   "source": []
  },
  {
   "cell_type": "code",
   "execution_count": null,
   "id": "d170f5f5",
   "metadata": {},
   "outputs": [],
   "source": []
  },
  {
   "cell_type": "code",
   "execution_count": null,
   "id": "bc2970dd",
   "metadata": {},
   "outputs": [],
   "source": []
  },
  {
   "cell_type": "code",
   "execution_count": null,
   "id": "744df175",
   "metadata": {},
   "outputs": [],
   "source": []
  },
  {
   "cell_type": "code",
   "execution_count": null,
   "id": "8927b00d",
   "metadata": {},
   "outputs": [],
   "source": []
  },
  {
   "cell_type": "code",
   "execution_count": null,
   "id": "6ee1c8cc",
   "metadata": {},
   "outputs": [],
   "source": []
  },
  {
   "cell_type": "code",
   "execution_count": null,
   "id": "77fe778d",
   "metadata": {},
   "outputs": [],
   "source": []
  },
  {
   "cell_type": "code",
   "execution_count": null,
   "id": "cf0c8933",
   "metadata": {},
   "outputs": [],
   "source": []
  },
  {
   "cell_type": "code",
   "execution_count": null,
   "id": "6a3b3ffa",
   "metadata": {},
   "outputs": [],
   "source": []
  },
  {
   "cell_type": "code",
   "execution_count": null,
   "id": "b8c677cf",
   "metadata": {},
   "outputs": [],
   "source": []
  },
  {
   "cell_type": "code",
   "execution_count": null,
   "id": "18e93d2c",
   "metadata": {},
   "outputs": [],
   "source": []
  },
  {
   "cell_type": "code",
   "execution_count": null,
   "id": "9231db36",
   "metadata": {},
   "outputs": [],
   "source": []
  },
  {
   "cell_type": "code",
   "execution_count": null,
   "id": "23360b36",
   "metadata": {},
   "outputs": [],
   "source": []
  },
  {
   "cell_type": "code",
   "execution_count": null,
   "id": "fc812ddc",
   "metadata": {},
   "outputs": [],
   "source": []
  },
  {
   "cell_type": "code",
   "execution_count": null,
   "id": "309eac6a",
   "metadata": {},
   "outputs": [],
   "source": []
  },
  {
   "cell_type": "code",
   "execution_count": null,
   "id": "9593b2e5",
   "metadata": {},
   "outputs": [],
   "source": []
  },
  {
   "cell_type": "code",
   "execution_count": null,
   "id": "e283462e",
   "metadata": {},
   "outputs": [],
   "source": []
  },
  {
   "cell_type": "code",
   "execution_count": null,
   "id": "2446ec27",
   "metadata": {},
   "outputs": [],
   "source": []
  },
  {
   "cell_type": "code",
   "execution_count": null,
   "id": "850a459c",
   "metadata": {},
   "outputs": [],
   "source": []
  },
  {
   "cell_type": "code",
   "execution_count": null,
   "id": "cfb50d54",
   "metadata": {},
   "outputs": [],
   "source": []
  },
  {
   "cell_type": "code",
   "execution_count": null,
   "id": "68ed1c07",
   "metadata": {},
   "outputs": [],
   "source": []
  },
  {
   "cell_type": "code",
   "execution_count": null,
   "id": "8bce813a",
   "metadata": {},
   "outputs": [],
   "source": []
  },
  {
   "cell_type": "code",
   "execution_count": null,
   "id": "68b6b111",
   "metadata": {},
   "outputs": [],
   "source": []
  },
  {
   "cell_type": "code",
   "execution_count": null,
   "id": "b71afdeb",
   "metadata": {},
   "outputs": [],
   "source": []
  },
  {
   "cell_type": "code",
   "execution_count": null,
   "id": "ce0dd861",
   "metadata": {},
   "outputs": [],
   "source": []
  },
  {
   "cell_type": "code",
   "execution_count": null,
   "id": "5ad39697",
   "metadata": {},
   "outputs": [],
   "source": []
  },
  {
   "cell_type": "code",
   "execution_count": null,
   "id": "ad53e397",
   "metadata": {},
   "outputs": [],
   "source": []
  },
  {
   "cell_type": "code",
   "execution_count": null,
   "id": "25758303",
   "metadata": {},
   "outputs": [],
   "source": []
  },
  {
   "cell_type": "code",
   "execution_count": null,
   "id": "220bd982",
   "metadata": {},
   "outputs": [],
   "source": []
  }
 ],
 "metadata": {
  "kernelspec": {
   "display_name": "Python 3 (ipykernel)",
   "language": "python",
   "name": "python3"
  },
  "language_info": {
   "codemirror_mode": {
    "name": "ipython",
    "version": 3
   },
   "file_extension": ".py",
   "mimetype": "text/x-python",
   "name": "python",
   "nbconvert_exporter": "python",
   "pygments_lexer": "ipython3",
   "version": "3.9.7"
  }
 },
 "nbformat": 4,
 "nbformat_minor": 5
}
