{
 "cells": [
  {
   "cell_type": "code",
   "execution_count": 1,
   "id": "0e9e74bc",
   "metadata": {},
   "outputs": [],
   "source": [
    "import pandas as pd"
   ]
  },
  {
   "cell_type": "markdown",
   "id": "a51e0fc9",
   "metadata": {},
   "source": [
    "Challenges: \n",
    "    1- 1/10 arasi sayilari iceren karisik bir liste olurtur\n",
    "    2- Listeyi seriye cevir\n",
    "    3- Serinin maksimum ve minumum elemanini bul\n",
    "    4- Serinin maksimum ve minumum elemaninin indexini bul"
   ]
  },
  {
   "cell_type": "code",
   "execution_count": 2,
   "id": "0004c6fb",
   "metadata": {},
   "outputs": [],
   "source": [
    "liste1 = [4,3,2,8,7,5,10,1,6,9]"
   ]
  },
  {
   "cell_type": "code",
   "execution_count": 3,
   "id": "f449beb1",
   "metadata": {},
   "outputs": [],
   "source": [
    "seri1 = pd.Series(liste1)"
   ]
  },
  {
   "cell_type": "code",
   "execution_count": 4,
   "id": "f57a28ed",
   "metadata": {},
   "outputs": [
    {
     "data": {
      "text/plain": [
       "0     4\n",
       "1     3\n",
       "2     2\n",
       "3     8\n",
       "4     7\n",
       "5     5\n",
       "6    10\n",
       "7     1\n",
       "8     6\n",
       "9     9\n",
       "dtype: int64"
      ]
     },
     "execution_count": 4,
     "metadata": {},
     "output_type": "execute_result"
    }
   ],
   "source": [
    "seri1"
   ]
  },
  {
   "cell_type": "code",
   "execution_count": 6,
   "id": "06b6c0e3",
   "metadata": {},
   "outputs": [
    {
     "data": {
      "text/plain": [
       "10"
      ]
     },
     "execution_count": 6,
     "metadata": {},
     "output_type": "execute_result"
    }
   ],
   "source": [
    "seri1.max()"
   ]
  },
  {
   "cell_type": "code",
   "execution_count": 7,
   "id": "9a593dd0",
   "metadata": {},
   "outputs": [
    {
     "data": {
      "text/plain": [
       "1"
      ]
     },
     "execution_count": 7,
     "metadata": {},
     "output_type": "execute_result"
    }
   ],
   "source": [
    "seri1.min()"
   ]
  },
  {
   "cell_type": "code",
   "execution_count": 23,
   "id": "91879079",
   "metadata": {},
   "outputs": [],
   "source": [
    "maxN = 0\n",
    "for i in seri1:\n",
    "    if maxN < i:\n",
    "        maxN = i"
   ]
  },
  {
   "cell_type": "code",
   "execution_count": 24,
   "id": "265a9199",
   "metadata": {},
   "outputs": [
    {
     "data": {
      "text/plain": [
       "10"
      ]
     },
     "execution_count": 24,
     "metadata": {},
     "output_type": "execute_result"
    }
   ],
   "source": [
    "maxN"
   ]
  },
  {
   "cell_type": "code",
   "execution_count": null,
   "id": "6ff3197d",
   "metadata": {},
   "outputs": [],
   "source": []
  },
  {
   "cell_type": "code",
   "execution_count": 25,
   "id": "494150ad",
   "metadata": {},
   "outputs": [],
   "source": [
    "minN = 0\n",
    "for i in seri1:\n",
    "    if minN > i:\n",
    "        minN = i"
   ]
  },
  {
   "cell_type": "code",
   "execution_count": 26,
   "id": "0a5fe8c9",
   "metadata": {},
   "outputs": [
    {
     "data": {
      "text/plain": [
       "0"
      ]
     },
     "execution_count": 26,
     "metadata": {},
     "output_type": "execute_result"
    }
   ],
   "source": [
    "minN"
   ]
  },
  {
   "cell_type": "code",
   "execution_count": null,
   "id": "88ce53cb",
   "metadata": {},
   "outputs": [],
   "source": [
    "# 4"
   ]
  },
  {
   "cell_type": "code",
   "execution_count": 66,
   "id": "d0115458",
   "metadata": {},
   "outputs": [],
   "source": [
    "maxN = 0\n",
    "sayac = 0\n",
    "index = -1\n",
    "for i in seri1:\n",
    "    if maxN < i:\n",
    "        maxN = i\n",
    "        index = sayac\n",
    "        sayac+=1"
   ]
  },
  {
   "cell_type": "code",
   "execution_count": 67,
   "id": "cfe741da",
   "metadata": {},
   "outputs": [
    {
     "data": {
      "text/plain": [
       "2"
      ]
     },
     "execution_count": 67,
     "metadata": {},
     "output_type": "execute_result"
    }
   ],
   "source": [
    "index"
   ]
  },
  {
   "cell_type": "code",
   "execution_count": 68,
   "id": "ba0bdaa2",
   "metadata": {},
   "outputs": [
    {
     "data": {
      "text/plain": [
       "3"
      ]
     },
     "execution_count": 68,
     "metadata": {},
     "output_type": "execute_result"
    }
   ],
   "source": [
    "sayac"
   ]
  },
  {
   "cell_type": "code",
   "execution_count": 69,
   "id": "2f8e6d3c",
   "metadata": {},
   "outputs": [
    {
     "data": {
      "text/plain": [
       "10"
      ]
     },
     "execution_count": 69,
     "metadata": {},
     "output_type": "execute_result"
    }
   ],
   "source": [
    "maxN"
   ]
  },
  {
   "cell_type": "code",
   "execution_count": null,
   "id": "c985c8ad",
   "metadata": {},
   "outputs": [],
   "source": [
    "# en kucuk degerin indexini methodla bulalim"
   ]
  },
  {
   "cell_type": "code",
   "execution_count": 61,
   "id": "c04873ba",
   "metadata": {},
   "outputs": [
    {
     "data": {
      "text/plain": [
       "7"
      ]
     },
     "execution_count": 61,
     "metadata": {},
     "output_type": "execute_result"
    }
   ],
   "source": [
    "seri1.idxmin()"
   ]
  },
  {
   "cell_type": "code",
   "execution_count": null,
   "id": "3c02550f",
   "metadata": {},
   "outputs": [],
   "source": [
    "# en buyuk degerin indexini bulalim"
   ]
  },
  {
   "cell_type": "code",
   "execution_count": 62,
   "id": "7481c02c",
   "metadata": {},
   "outputs": [
    {
     "data": {
      "text/plain": [
       "6"
      ]
     },
     "execution_count": 62,
     "metadata": {},
     "output_type": "execute_result"
    }
   ],
   "source": [
    "seri1.idxmax()"
   ]
  },
  {
   "cell_type": "code",
   "execution_count": null,
   "id": "35478cf8",
   "metadata": {},
   "outputs": [],
   "source": []
  }
 ],
 "metadata": {
  "kernelspec": {
   "display_name": "Python 3 (ipykernel)",
   "language": "python",
   "name": "python3"
  },
  "language_info": {
   "codemirror_mode": {
    "name": "ipython",
    "version": 3
   },
   "file_extension": ".py",
   "mimetype": "text/x-python",
   "name": "python",
   "nbconvert_exporter": "python",
   "pygments_lexer": "ipython3",
   "version": "3.9.7"
  }
 },
 "nbformat": 4,
 "nbformat_minor": 5
}
