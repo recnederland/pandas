{
 "cells": [
  {
   "cell_type": "code",
   "execution_count": 1,
   "id": "93335a47",
   "metadata": {},
   "outputs": [],
   "source": [
    "import pandas as pd"
   ]
  },
  {
   "cell_type": "code",
   "execution_count": 2,
   "id": "a4faa458",
   "metadata": {},
   "outputs": [],
   "source": [
    "netflix = pd.read_csv('netflix.csv')"
   ]
  },
  {
   "cell_type": "code",
   "execution_count": 4,
   "id": "67300b8a",
   "metadata": {},
   "outputs": [
    {
     "data": {
      "text/html": [
       "<div>\n",
       "<style scoped>\n",
       "    .dataframe tbody tr th:only-of-type {\n",
       "        vertical-align: middle;\n",
       "    }\n",
       "\n",
       "    .dataframe tbody tr th {\n",
       "        vertical-align: top;\n",
       "    }\n",
       "\n",
       "    .dataframe thead th {\n",
       "        text-align: right;\n",
       "    }\n",
       "</style>\n",
       "<table border=\"1\" class=\"dataframe\">\n",
       "  <thead>\n",
       "    <tr style=\"text-align: right;\">\n",
       "      <th></th>\n",
       "      <th>sov_no</th>\n",
       "      <th>tipi</th>\n",
       "      <th>baslik</th>\n",
       "      <th>yonetmen</th>\n",
       "      <th>oyuncular</th>\n",
       "      <th>ulke</th>\n",
       "      <th>eklenme_tarihi</th>\n",
       "      <th>cikis_tarihi</th>\n",
       "      <th>sure</th>\n",
       "      <th>kategori</th>\n",
       "      <th>aciklama</th>\n",
       "    </tr>\n",
       "  </thead>\n",
       "  <tbody>\n",
       "    <tr>\n",
       "      <th>0</th>\n",
       "      <td>81145628</td>\n",
       "      <td>Movie</td>\n",
       "      <td>Norm of the North: King Sized Adventure</td>\n",
       "      <td>Richard Finn, Tim Maltby</td>\n",
       "      <td>Alan Marriott, Andrew Toth, Brian Dobson, Cole...</td>\n",
       "      <td>United States, India, South Korea, China</td>\n",
       "      <td>September 9, 2019</td>\n",
       "      <td>2019</td>\n",
       "      <td>90 min</td>\n",
       "      <td>Children &amp; Family Movies, Comedies</td>\n",
       "      <td>Before planning an awesome wedding for his gra...</td>\n",
       "    </tr>\n",
       "    <tr>\n",
       "      <th>1</th>\n",
       "      <td>80117401</td>\n",
       "      <td>Movie</td>\n",
       "      <td>Jandino: Whatever it Takes</td>\n",
       "      <td>NaN</td>\n",
       "      <td>Jandino Asporaat</td>\n",
       "      <td>United Kingdom</td>\n",
       "      <td>September 9, 2016</td>\n",
       "      <td>2016</td>\n",
       "      <td>94 min</td>\n",
       "      <td>Stand-Up Comedy</td>\n",
       "      <td>Jandino Asporaat riffs on the challenges of ra...</td>\n",
       "    </tr>\n",
       "    <tr>\n",
       "      <th>2</th>\n",
       "      <td>70234439</td>\n",
       "      <td>TV Show</td>\n",
       "      <td>Transformers Prime</td>\n",
       "      <td>NaN</td>\n",
       "      <td>Peter Cullen, Sumalee Montano, Frank Welker, J...</td>\n",
       "      <td>United States</td>\n",
       "      <td>September 8, 2018</td>\n",
       "      <td>2013</td>\n",
       "      <td>1 Season</td>\n",
       "      <td>Kids' TV</td>\n",
       "      <td>With the help of three human allies, the Autob...</td>\n",
       "    </tr>\n",
       "    <tr>\n",
       "      <th>3</th>\n",
       "      <td>80058654</td>\n",
       "      <td>TV Show</td>\n",
       "      <td>Transformers: Robots in Disguise</td>\n",
       "      <td>NaN</td>\n",
       "      <td>Will Friedle, Darren Criss, Constance Zimmer, ...</td>\n",
       "      <td>United States</td>\n",
       "      <td>September 8, 2018</td>\n",
       "      <td>2016</td>\n",
       "      <td>1 Season</td>\n",
       "      <td>Kids' TV</td>\n",
       "      <td>When a prison ship crash unleashes hundreds of...</td>\n",
       "    </tr>\n",
       "    <tr>\n",
       "      <th>4</th>\n",
       "      <td>80125979</td>\n",
       "      <td>Movie</td>\n",
       "      <td>#realityhigh</td>\n",
       "      <td>Fernando Lebrija</td>\n",
       "      <td>Nesta Cooper, Kate Walsh, John Michael Higgins...</td>\n",
       "      <td>United States</td>\n",
       "      <td>September 8, 2017</td>\n",
       "      <td>2017</td>\n",
       "      <td>99 min</td>\n",
       "      <td>Comedies</td>\n",
       "      <td>When nerdy high schooler Dani finally attracts...</td>\n",
       "    </tr>\n",
       "  </tbody>\n",
       "</table>\n",
       "</div>"
      ],
      "text/plain": [
       "     sov_no     tipi                                   baslik  \\\n",
       "0  81145628    Movie  Norm of the North: King Sized Adventure   \n",
       "1  80117401    Movie               Jandino: Whatever it Takes   \n",
       "2  70234439  TV Show                       Transformers Prime   \n",
       "3  80058654  TV Show         Transformers: Robots in Disguise   \n",
       "4  80125979    Movie                             #realityhigh   \n",
       "\n",
       "                   yonetmen  \\\n",
       "0  Richard Finn, Tim Maltby   \n",
       "1                       NaN   \n",
       "2                       NaN   \n",
       "3                       NaN   \n",
       "4          Fernando Lebrija   \n",
       "\n",
       "                                           oyuncular  \\\n",
       "0  Alan Marriott, Andrew Toth, Brian Dobson, Cole...   \n",
       "1                                   Jandino Asporaat   \n",
       "2  Peter Cullen, Sumalee Montano, Frank Welker, J...   \n",
       "3  Will Friedle, Darren Criss, Constance Zimmer, ...   \n",
       "4  Nesta Cooper, Kate Walsh, John Michael Higgins...   \n",
       "\n",
       "                                       ulke     eklenme_tarihi  cikis_tarihi  \\\n",
       "0  United States, India, South Korea, China  September 9, 2019          2019   \n",
       "1                            United Kingdom  September 9, 2016          2016   \n",
       "2                             United States  September 8, 2018          2013   \n",
       "3                             United States  September 8, 2018          2016   \n",
       "4                             United States  September 8, 2017          2017   \n",
       "\n",
       "       sure                            kategori  \\\n",
       "0    90 min  Children & Family Movies, Comedies   \n",
       "1    94 min                     Stand-Up Comedy   \n",
       "2  1 Season                            Kids' TV   \n",
       "3  1 Season                            Kids' TV   \n",
       "4    99 min                            Comedies   \n",
       "\n",
       "                                            aciklama  \n",
       "0  Before planning an awesome wedding for his gra...  \n",
       "1  Jandino Asporaat riffs on the challenges of ra...  \n",
       "2  With the help of three human allies, the Autob...  \n",
       "3  When a prison ship crash unleashes hundreds of...  \n",
       "4  When nerdy high schooler Dani finally attracts...  "
      ]
     },
     "execution_count": 4,
     "metadata": {},
     "output_type": "execute_result"
    }
   ],
   "source": [
    "netflix.head()"
   ]
  },
  {
   "cell_type": "code",
   "execution_count": 6,
   "id": "b2f93491",
   "metadata": {},
   "outputs": [
    {
     "name": "stdout",
     "output_type": "stream",
     "text": [
      "<class 'pandas.core.frame.DataFrame'>\n",
      "RangeIndex: 6234 entries, 0 to 6233\n",
      "Data columns (total 11 columns):\n",
      " #   Column          Non-Null Count  Dtype \n",
      "---  ------          --------------  ----- \n",
      " 0   sov_no          6234 non-null   int64 \n",
      " 1   tipi            6234 non-null   object\n",
      " 2   baslik          6234 non-null   object\n",
      " 3   yonetmen        4265 non-null   object\n",
      " 4   oyuncular       5664 non-null   object\n",
      " 5   ulke            5758 non-null   object\n",
      " 6   eklenme_tarihi  6223 non-null   object\n",
      " 7   cikis_tarihi    6234 non-null   int64 \n",
      " 8   sure            6234 non-null   object\n",
      " 9   kategori        6234 non-null   object\n",
      " 10  aciklama        6234 non-null   object\n",
      "dtypes: int64(2), object(9)\n",
      "memory usage: 535.9+ KB\n"
     ]
    }
   ],
   "source": [
    "netflix.info()"
   ]
  },
  {
   "cell_type": "code",
   "execution_count": 7,
   "id": "4cb55eb5",
   "metadata": {},
   "outputs": [
    {
     "data": {
      "text/plain": [
       "1969"
      ]
     },
     "execution_count": 7,
     "metadata": {},
     "output_type": "execute_result"
    }
   ],
   "source": [
    "6234-4265"
   ]
  },
  {
   "cell_type": "code",
   "execution_count": null,
   "id": "9a9db26e",
   "metadata": {},
   "outputs": [],
   "source": [
    "netflix.dropna()  # nan varsa o satiri kalici atar inplace ile"
   ]
  },
  {
   "cell_type": "code",
   "execution_count": null,
   "id": "81c5ccd7",
   "metadata": {},
   "outputs": [],
   "source": [
    "netflix.dropna(how='all') # butun satir nan ise at demis olduk"
   ]
  },
  {
   "cell_type": "code",
   "execution_count": null,
   "id": "f297a1b0",
   "metadata": {},
   "outputs": [],
   "source": [
    "netflix.dropna(axis: 'Axis' = 0,) # axis = 0 = satir, axis =1 = sutun"
   ]
  },
  {
   "cell_type": "code",
   "execution_count": null,
   "id": "e2de4bb2",
   "metadata": {},
   "outputs": [],
   "source": [
    "netflix.dropna(axis: 'columns')  # nan deger varsa o sutun gider"
   ]
  },
  {
   "cell_type": "code",
   "execution_count": null,
   "id": "42394722",
   "metadata": {},
   "outputs": [],
   "source": [
    "netflix.fillna('-')"
   ]
  },
  {
   "cell_type": "code",
   "execution_count": null,
   "id": "44a5eb25",
   "metadata": {},
   "outputs": [],
   "source": [
    "netflix.fillna(5)"
   ]
  },
  {
   "cell_type": "code",
   "execution_count": null,
   "id": "40d63293",
   "metadata": {},
   "outputs": [],
   "source": [
    "netflix.fillna('Bos')"
   ]
  },
  {
   "cell_type": "code",
   "execution_count": null,
   "id": "b2eca7e7",
   "metadata": {},
   "outputs": [],
   "source": [
    "netflix.fillna(1000, inplace=True)"
   ]
  },
  {
   "cell_type": "code",
   "execution_count": null,
   "id": "9b8f8b1b",
   "metadata": {},
   "outputs": [],
   "source": [
    "# sutun sutun nan degerler degistirilebilir"
   ]
  },
  {
   "cell_type": "code",
   "execution_count": null,
   "id": "09a59a17",
   "metadata": {},
   "outputs": [],
   "source": [
    "netflix['yonetmen']  # hatirlayalim bu bir seri su an"
   ]
  },
  {
   "cell_type": "code",
   "execution_count": null,
   "id": "3e444360",
   "metadata": {},
   "outputs": [],
   "source": [
    "netflix['yonetmen'].fillna('yonetmen kayitli degil')"
   ]
  }
 ],
 "metadata": {
  "kernelspec": {
   "display_name": "Python 3 (ipykernel)",
   "language": "python",
   "name": "python3"
  },
  "language_info": {
   "codemirror_mode": {
    "name": "ipython",
    "version": 3
   },
   "file_extension": ".py",
   "mimetype": "text/x-python",
   "name": "python",
   "nbconvert_exporter": "python",
   "pygments_lexer": "ipython3",
   "version": "3.9.7"
  }
 },
 "nbformat": 4,
 "nbformat_minor": 5
}
