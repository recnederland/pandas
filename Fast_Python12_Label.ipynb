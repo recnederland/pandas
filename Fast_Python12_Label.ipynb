{
 "cells": [
  {
   "cell_type": "code",
   "execution_count": 1,
   "id": "457e8d23",
   "metadata": {},
   "outputs": [],
   "source": [
    "import pandas as pd"
   ]
  },
  {
   "cell_type": "code",
   "execution_count": 2,
   "id": "903ea30f",
   "metadata": {},
   "outputs": [
    {
     "data": {
      "text/plain": [
       "Gunler\n",
       "Pazartesi      1\n",
       "Sali           2\n",
       "Carsamba       3\n",
       "Persembe       4\n",
       "Cuma           5\n",
       "            ... \n",
       "Pazartesi    246\n",
       "Sali         247\n",
       "Carsamba     248\n",
       "Persembe     249\n",
       "Cuma         250\n",
       "Name: Kumbara, Length: 250, dtype: int64"
      ]
     },
     "execution_count": 2,
     "metadata": {},
     "output_type": "execute_result"
    }
   ],
   "source": [
    "pd.read_csv('gunler.csv', index_col='Gunler', squeeze=True)"
   ]
  },
  {
   "cell_type": "code",
   "execution_count": 3,
   "id": "226da826",
   "metadata": {},
   "outputs": [],
   "source": [
    "gunlerSerisi = pd.read_csv('gunler.csv', index_col='Gunler', squeeze=True)"
   ]
  },
  {
   "cell_type": "code",
   "execution_count": 4,
   "id": "909e44de",
   "metadata": {},
   "outputs": [
    {
     "data": {
      "text/plain": [
       "6"
      ]
     },
     "execution_count": 4,
     "metadata": {},
     "output_type": "execute_result"
    }
   ],
   "source": [
    "gunlerSerisi[5]"
   ]
  },
  {
   "cell_type": "code",
   "execution_count": 6,
   "id": "0a1ce796",
   "metadata": {},
   "outputs": [
    {
     "data": {
      "text/plain": [
       "Gunler\n",
       "Pazartesi    1\n",
       "Sali         2\n",
       "Carsamba     3\n",
       "Persembe     4\n",
       "Cuma         5\n",
       "Name: Kumbara, dtype: int64"
      ]
     },
     "execution_count": 6,
     "metadata": {},
     "output_type": "execute_result"
    }
   ],
   "source": [
    "gunlerSerisi.head(5)"
   ]
  },
  {
   "cell_type": "code",
   "execution_count": 7,
   "id": "21639302",
   "metadata": {
    "scrolled": true
   },
   "outputs": [
    {
     "data": {
      "text/plain": [
       "Gunler\n",
       "Pazartesi      1\n",
       "Pazartesi      8\n",
       "Pazartesi     15\n",
       "Pazartesi     22\n",
       "Pazartesi     29\n",
       "Pazartesi     36\n",
       "Pazartesi     43\n",
       "Pazartesi     50\n",
       "Pazartesi     57\n",
       "Pazartesi     64\n",
       "Pazartesi     71\n",
       "Pazartesi     78\n",
       "Pazartesi     85\n",
       "Pazartesi     92\n",
       "Pazartesi     99\n",
       "Pazartesi    106\n",
       "Pazartesi    113\n",
       "Pazartesi    120\n",
       "Pazartesi    127\n",
       "Pazartesi    134\n",
       "Pazartesi    141\n",
       "Pazartesi    148\n",
       "Pazartesi    155\n",
       "Pazartesi    162\n",
       "Pazartesi    169\n",
       "Pazartesi    176\n",
       "Pazartesi    183\n",
       "Pazartesi    190\n",
       "Pazartesi    197\n",
       "Pazartesi    204\n",
       "Pazartesi    211\n",
       "Pazartesi    218\n",
       "Pazartesi    225\n",
       "Pazartesi    232\n",
       "Pazartesi    239\n",
       "Pazartesi    246\n",
       "Name: Kumbara, dtype: int64"
      ]
     },
     "execution_count": 7,
     "metadata": {},
     "output_type": "execute_result"
    }
   ],
   "source": [
    "gunlerSerisi['Pazartesi']"
   ]
  },
  {
   "cell_type": "code",
   "execution_count": 10,
   "id": "299ebf4b",
   "metadata": {},
   "outputs": [
    {
     "data": {
      "text/plain": [
       "Gunler\n",
       "Pazartesi      1\n",
       "Pazartesi      8\n",
       "Pazartesi     15\n",
       "Pazartesi     22\n",
       "Pazartesi     29\n",
       "            ... \n",
       "Sali         219\n",
       "Sali         226\n",
       "Sali         233\n",
       "Sali         240\n",
       "Sali         247\n",
       "Name: Kumbara, Length: 72, dtype: int64"
      ]
     },
     "execution_count": 10,
     "metadata": {},
     "output_type": "execute_result"
    }
   ],
   "source": [
    "gunlerSerisi[[\"Pazartesi\", \"Sali\"]] # dikkat 2 parantez ic ice"
   ]
  },
  {
   "cell_type": "code",
   "execution_count": null,
   "id": "b3ac0e87",
   "metadata": {},
   "outputs": [],
   "source": [
    "# c1: Pazartesileri kumbarada kac para var"
   ]
  },
  {
   "cell_type": "code",
   "execution_count": 16,
   "id": "e0c5a2c5",
   "metadata": {},
   "outputs": [
    {
     "data": {
      "text/plain": [
       "<bound method NDFrame._add_numeric_operations.<locals>.sum of Gunler\n",
       "Pazartesi      1\n",
       "Pazartesi      8\n",
       "Pazartesi     15\n",
       "Pazartesi     22\n",
       "Pazartesi     29\n",
       "Pazartesi     36\n",
       "Pazartesi     43\n",
       "Pazartesi     50\n",
       "Pazartesi     57\n",
       "Pazartesi     64\n",
       "Pazartesi     71\n",
       "Pazartesi     78\n",
       "Pazartesi     85\n",
       "Pazartesi     92\n",
       "Pazartesi     99\n",
       "Pazartesi    106\n",
       "Pazartesi    113\n",
       "Pazartesi    120\n",
       "Pazartesi    127\n",
       "Pazartesi    134\n",
       "Pazartesi    141\n",
       "Pazartesi    148\n",
       "Pazartesi    155\n",
       "Pazartesi    162\n",
       "Pazartesi    169\n",
       "Pazartesi    176\n",
       "Pazartesi    183\n",
       "Pazartesi    190\n",
       "Pazartesi    197\n",
       "Pazartesi    204\n",
       "Pazartesi    211\n",
       "Pazartesi    218\n",
       "Pazartesi    225\n",
       "Pazartesi    232\n",
       "Pazartesi    239\n",
       "Pazartesi    246\n",
       "Name: Kumbara, dtype: int64>"
      ]
     },
     "execution_count": 16,
     "metadata": {},
     "output_type": "execute_result"
    }
   ],
   "source": [
    "gunlerSerisi[\"Pazartesi\"].sum"
   ]
  },
  {
   "cell_type": "code",
   "execution_count": 18,
   "id": "7f848bc3",
   "metadata": {},
   "outputs": [],
   "source": [
    "# d2: Sali ve Cuma gunlerinde para "
   ]
  },
  {
   "cell_type": "code",
   "execution_count": 20,
   "id": "099b2ed1",
   "metadata": {},
   "outputs": [
    {
     "data": {
      "text/plain": [
       "Gunler\n",
       "Sali      2\n",
       "Sali      9\n",
       "Sali     16\n",
       "Sali     23\n",
       "Sali     30\n",
       "       ... \n",
       "Cuma    222\n",
       "Cuma    229\n",
       "Cuma    236\n",
       "Cuma    243\n",
       "Cuma    250\n",
       "Name: Kumbara, Length: 72, dtype: int64"
      ]
     },
     "execution_count": 20,
     "metadata": {},
     "output_type": "execute_result"
    }
   ],
   "source": [
    "gunlerSerisi[['Sali', 'Cuma']]"
   ]
  },
  {
   "cell_type": "code",
   "execution_count": null,
   "id": "03a859d1",
   "metadata": {},
   "outputs": [],
   "source": []
  },
  {
   "cell_type": "code",
   "execution_count": null,
   "id": "b78c04c0",
   "metadata": {},
   "outputs": [],
   "source": []
  },
  {
   "cell_type": "code",
   "execution_count": null,
   "id": "806faf5f",
   "metadata": {},
   "outputs": [],
   "source": []
  },
  {
   "cell_type": "code",
   "execution_count": null,
   "id": "8b48108c",
   "metadata": {},
   "outputs": [],
   "source": []
  },
  {
   "cell_type": "code",
   "execution_count": null,
   "id": "65aa7fbe",
   "metadata": {},
   "outputs": [],
   "source": []
  },
  {
   "cell_type": "code",
   "execution_count": null,
   "id": "73059036",
   "metadata": {},
   "outputs": [],
   "source": []
  },
  {
   "cell_type": "code",
   "execution_count": null,
   "id": "c187c7e7",
   "metadata": {},
   "outputs": [],
   "source": []
  },
  {
   "cell_type": "code",
   "execution_count": null,
   "id": "717954b1",
   "metadata": {},
   "outputs": [],
   "source": []
  },
  {
   "cell_type": "code",
   "execution_count": null,
   "id": "e29c9c2e",
   "metadata": {},
   "outputs": [],
   "source": []
  },
  {
   "cell_type": "code",
   "execution_count": null,
   "id": "c06b73f8",
   "metadata": {},
   "outputs": [],
   "source": []
  },
  {
   "cell_type": "code",
   "execution_count": null,
   "id": "d12aaae3",
   "metadata": {},
   "outputs": [],
   "source": []
  },
  {
   "cell_type": "code",
   "execution_count": null,
   "id": "3c944f34",
   "metadata": {},
   "outputs": [],
   "source": []
  }
 ],
 "metadata": {
  "kernelspec": {
   "display_name": "Python 3 (ipykernel)",
   "language": "python",
   "name": "python3"
  },
  "language_info": {
   "codemirror_mode": {
    "name": "ipython",
    "version": 3
   },
   "file_extension": ".py",
   "mimetype": "text/x-python",
   "name": "python",
   "nbconvert_exporter": "python",
   "pygments_lexer": "ipython3",
   "version": "3.9.7"
  }
 },
 "nbformat": 4,
 "nbformat_minor": 5
}
