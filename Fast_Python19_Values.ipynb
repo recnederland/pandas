{
 "cells": [
  {
   "cell_type": "code",
   "execution_count": 1,
   "id": "f4805d2d",
   "metadata": {},
   "outputs": [],
   "source": [
    "import pandas as pd"
   ]
  },
  {
   "cell_type": "markdown",
   "id": "85dd5900",
   "metadata": {},
   "source": [
    "# Attributes "
   ]
  },
  {
   "cell_type": "markdown",
   "id": "b634623a",
   "metadata": {},
   "source": [
    "Attributes and underlying data\n",
    "Axes\n",
    "\n",
    "DataFrame.index\n",
    "\n",
    "The index (row labels) of the DataFrame.\n",
    "\n",
    "DataFrame.columns\n",
    "\n",
    "The column labels of the DataFrame.\n",
    "\n",
    "DataFrame.dtypes\n",
    "\n",
    "Return the dtypes in the DataFrame.\n",
    "\n",
    "DataFrame.info([verbose, buf, max_cols, ...])\n",
    "\n",
    "Print a concise summary of a DataFrame.\n",
    "\n",
    "DataFrame.select_dtypes([include, exclude])\n",
    "\n",
    "Return a subset of the DataFrame's columns based on the column dtypes.\n",
    "\n",
    "DataFrame.values\n",
    "\n",
    "Return a Numpy representation of the DataFrame.\n",
    "\n",
    "DataFrame.axes\n",
    "\n",
    "Return a list representing the axes of the DataFrame.\n",
    "\n",
    "DataFrame.ndim\n",
    "\n",
    "Return an int representing the number of axes / array dimensions.\n",
    "\n",
    "DataFrame.size\n",
    "\n",
    "Return an int representing the number of elements in this object.\n",
    "\n",
    "DataFrame.shape\n",
    "\n",
    "Return a tuple representing the dimensionality of the DataFrame.\n",
    "\n",
    "DataFrame.memory_usage([index, deep])\n",
    "\n",
    "Return the memory usage of each column in bytes.\n",
    "\n",
    "DataFrame.empty\n",
    "\n",
    "Indicator whether Series/DataFrame is empty.\n",
    "\n",
    "DataFrame.set_flags(*[, copy, ...])\n",
    "\n",
    "Return a new object with updated flags."
   ]
  },
  {
   "cell_type": "code",
   "execution_count": 2,
   "id": "d7e48202",
   "metadata": {},
   "outputs": [],
   "source": [
    "df = pd.read_csv('calisan_data.csv')"
   ]
  },
  {
   "cell_type": "code",
   "execution_count": 3,
   "id": "055ea16a",
   "metadata": {},
   "outputs": [
    {
     "data": {
      "text/html": [
       "<div>\n",
       "<style scoped>\n",
       "    .dataframe tbody tr th:only-of-type {\n",
       "        vertical-align: middle;\n",
       "    }\n",
       "\n",
       "    .dataframe tbody tr th {\n",
       "        vertical-align: top;\n",
       "    }\n",
       "\n",
       "    .dataframe thead th {\n",
       "        text-align: right;\n",
       "    }\n",
       "</style>\n",
       "<table border=\"1\" class=\"dataframe\">\n",
       "  <thead>\n",
       "    <tr style=\"text-align: right;\">\n",
       "      <th></th>\n",
       "      <th>Isimler</th>\n",
       "      <th>Soyisimler</th>\n",
       "      <th>TelefonTuru</th>\n",
       "      <th>Departman</th>\n",
       "      <th>Sehir</th>\n",
       "      <th>DogumTarihi</th>\n",
       "      <th>Maas</th>\n",
       "      <th>Telefon</th>\n",
       "      <th>mail</th>\n",
       "    </tr>\n",
       "  </thead>\n",
       "  <tbody>\n",
       "    <tr>\n",
       "      <th>0</th>\n",
       "      <td>ALİ</td>\n",
       "      <td>KANDEMİR</td>\n",
       "      <td>Sabit</td>\n",
       "      <td>Müşteri İlişkileri ve Satış</td>\n",
       "      <td>Kocaeli</td>\n",
       "      <td>22 Nisan 1985</td>\n",
       "      <td>9477</td>\n",
       "      <td>2625462003</td>\n",
       "      <td>kandemirali@yandex.com</td>\n",
       "    </tr>\n",
       "    <tr>\n",
       "      <th>1</th>\n",
       "      <td>MAHMUT</td>\n",
       "      <td>ÇEVİK</td>\n",
       "      <td>Sabit</td>\n",
       "      <td>Yazılım Geliştirme</td>\n",
       "      <td>İstanbul</td>\n",
       "      <td>02 Mayıs 1979</td>\n",
       "      <td>11331</td>\n",
       "      <td>2128804662</td>\n",
       "      <td>mahmut.çevik@yandex.com</td>\n",
       "    </tr>\n",
       "    <tr>\n",
       "      <th>2</th>\n",
       "      <td>MANSUR</td>\n",
       "      <td>ERKURAN</td>\n",
       "      <td>Vodafone</td>\n",
       "      <td>Yazılım Geliştirme</td>\n",
       "      <td>Ankara</td>\n",
       "      <td>02 Kasım 1979</td>\n",
       "      <td>11679</td>\n",
       "      <td>5488439920</td>\n",
       "      <td>mansur.erkuran@gmail.com</td>\n",
       "    </tr>\n",
       "    <tr>\n",
       "      <th>3</th>\n",
       "      <td>GAMZE</td>\n",
       "      <td>TÜTEN</td>\n",
       "      <td>Vodafone</td>\n",
       "      <td>Yazılım Geliştirme</td>\n",
       "      <td>Bursa</td>\n",
       "      <td>03 Şubat 1987</td>\n",
       "      <td>5206</td>\n",
       "      <td>5427560798</td>\n",
       "      <td>tütengamze@hotmail.com</td>\n",
       "    </tr>\n",
       "    <tr>\n",
       "      <th>4</th>\n",
       "      <td>MİRAÇ</td>\n",
       "      <td>ÖZTÜRK</td>\n",
       "      <td>Türk Telekom</td>\n",
       "      <td>Yazılım Geliştirme</td>\n",
       "      <td>İstanbul</td>\n",
       "      <td>22 Ekim 1987</td>\n",
       "      <td>8670</td>\n",
       "      <td>5544899572</td>\n",
       "      <td>öztürk.miraç@yandex.com</td>\n",
       "    </tr>\n",
       "    <tr>\n",
       "      <th>...</th>\n",
       "      <td>...</td>\n",
       "      <td>...</td>\n",
       "      <td>...</td>\n",
       "      <td>...</td>\n",
       "      <td>...</td>\n",
       "      <td>...</td>\n",
       "      <td>...</td>\n",
       "      <td>...</td>\n",
       "      <td>...</td>\n",
       "    </tr>\n",
       "    <tr>\n",
       "      <th>2440</th>\n",
       "      <td>YILMAZ</td>\n",
       "      <td>YAZICI</td>\n",
       "      <td>Vodafone</td>\n",
       "      <td>Yazılım Geliştirme</td>\n",
       "      <td>Kocaeli</td>\n",
       "      <td>09 Aralık 1975</td>\n",
       "      <td>12593</td>\n",
       "      <td>5443005679</td>\n",
       "      <td>yilmaz.yazici@yahoo.com</td>\n",
       "    </tr>\n",
       "    <tr>\n",
       "      <th>2441</th>\n",
       "      <td>ZEYNEP</td>\n",
       "      <td>DOĞANGÜZEL</td>\n",
       "      <td>Türk Telekom</td>\n",
       "      <td>Yazılım Geliştirme</td>\n",
       "      <td>İstanbul</td>\n",
       "      <td>22 Mayıs 1986</td>\n",
       "      <td>6021</td>\n",
       "      <td>5533689407</td>\n",
       "      <td>zeynep.doğangüzel@gmail.com</td>\n",
       "    </tr>\n",
       "    <tr>\n",
       "      <th>2442</th>\n",
       "      <td>CANER</td>\n",
       "      <td>AKKAYA</td>\n",
       "      <td>Türk Telekom</td>\n",
       "      <td>Yazılım Geliştirme</td>\n",
       "      <td>İstanbul</td>\n",
       "      <td>07 Kasım 1983</td>\n",
       "      <td>8716</td>\n",
       "      <td>5533969681</td>\n",
       "      <td>akkaya.caner@yandex.com</td>\n",
       "    </tr>\n",
       "    <tr>\n",
       "      <th>2443</th>\n",
       "      <td>VOLKAN</td>\n",
       "      <td>FEYZULLAHOĞLU</td>\n",
       "      <td>Türk Telekom</td>\n",
       "      <td>Yazılım Geliştirme</td>\n",
       "      <td>Bursa</td>\n",
       "      <td>09 Temmuz 1984</td>\n",
       "      <td>9408</td>\n",
       "      <td>5069462233</td>\n",
       "      <td>feyzullahoğlu.volkan@yahoo.com</td>\n",
       "    </tr>\n",
       "    <tr>\n",
       "      <th>2444</th>\n",
       "      <td>EMRE</td>\n",
       "      <td>ŞAHİN</td>\n",
       "      <td>Vodafone</td>\n",
       "      <td>Yazılım Geliştirme</td>\n",
       "      <td>İstanbul</td>\n",
       "      <td>16 Temmuz 1978</td>\n",
       "      <td>14493</td>\n",
       "      <td>5415697256</td>\n",
       "      <td>emre.şahin@yandex.com</td>\n",
       "    </tr>\n",
       "  </tbody>\n",
       "</table>\n",
       "<p>2445 rows × 9 columns</p>\n",
       "</div>"
      ],
      "text/plain": [
       "     Isimler     Soyisimler   TelefonTuru                    Departman  \\\n",
       "0        ALİ       KANDEMİR         Sabit  Müşteri İlişkileri ve Satış   \n",
       "1     MAHMUT          ÇEVİK         Sabit           Yazılım Geliştirme   \n",
       "2     MANSUR        ERKURAN      Vodafone           Yazılım Geliştirme   \n",
       "3      GAMZE          TÜTEN      Vodafone           Yazılım Geliştirme   \n",
       "4      MİRAÇ         ÖZTÜRK  Türk Telekom           Yazılım Geliştirme   \n",
       "...      ...            ...           ...                          ...   \n",
       "2440  YILMAZ         YAZICI      Vodafone           Yazılım Geliştirme   \n",
       "2441  ZEYNEP     DOĞANGÜZEL  Türk Telekom           Yazılım Geliştirme   \n",
       "2442   CANER         AKKAYA  Türk Telekom           Yazılım Geliştirme   \n",
       "2443  VOLKAN  FEYZULLAHOĞLU  Türk Telekom           Yazılım Geliştirme   \n",
       "2444    EMRE          ŞAHİN      Vodafone           Yazılım Geliştirme   \n",
       "\n",
       "         Sehir     DogumTarihi   Maas     Telefon  \\\n",
       "0      Kocaeli   22 Nisan 1985   9477  2625462003   \n",
       "1     İstanbul   02 Mayıs 1979  11331  2128804662   \n",
       "2       Ankara   02 Kasım 1979  11679  5488439920   \n",
       "3        Bursa   03 Şubat 1987   5206  5427560798   \n",
       "4     İstanbul    22 Ekim 1987   8670  5544899572   \n",
       "...        ...             ...    ...         ...   \n",
       "2440   Kocaeli  09 Aralık 1975  12593  5443005679   \n",
       "2441  İstanbul   22 Mayıs 1986   6021  5533689407   \n",
       "2442  İstanbul   07 Kasım 1983   8716  5533969681   \n",
       "2443     Bursa  09 Temmuz 1984   9408  5069462233   \n",
       "2444  İstanbul  16 Temmuz 1978  14493  5415697256   \n",
       "\n",
       "                                mail  \n",
       "0             kandemirali@yandex.com  \n",
       "1            mahmut.çevik@yandex.com  \n",
       "2           mansur.erkuran@gmail.com  \n",
       "3             tütengamze@hotmail.com  \n",
       "4            öztürk.miraç@yandex.com  \n",
       "...                              ...  \n",
       "2440         yilmaz.yazici@yahoo.com  \n",
       "2441     zeynep.doğangüzel@gmail.com  \n",
       "2442         akkaya.caner@yandex.com  \n",
       "2443  feyzullahoğlu.volkan@yahoo.com  \n",
       "2444           emre.şahin@yandex.com  \n",
       "\n",
       "[2445 rows x 9 columns]"
      ]
     },
     "execution_count": 3,
     "metadata": {},
     "output_type": "execute_result"
    }
   ],
   "source": [
    "df"
   ]
  },
  {
   "cell_type": "code",
   "execution_count": 4,
   "id": "fbf2b20a",
   "metadata": {},
   "outputs": [
    {
     "data": {
      "text/html": [
       "<div>\n",
       "<style scoped>\n",
       "    .dataframe tbody tr th:only-of-type {\n",
       "        vertical-align: middle;\n",
       "    }\n",
       "\n",
       "    .dataframe tbody tr th {\n",
       "        vertical-align: top;\n",
       "    }\n",
       "\n",
       "    .dataframe thead th {\n",
       "        text-align: right;\n",
       "    }\n",
       "</style>\n",
       "<table border=\"1\" class=\"dataframe\">\n",
       "  <thead>\n",
       "    <tr style=\"text-align: right;\">\n",
       "      <th></th>\n",
       "      <th>Isimler</th>\n",
       "      <th>Soyisimler</th>\n",
       "      <th>TelefonTuru</th>\n",
       "      <th>Departman</th>\n",
       "      <th>Sehir</th>\n",
       "      <th>DogumTarihi</th>\n",
       "      <th>Maas</th>\n",
       "      <th>Telefon</th>\n",
       "      <th>mail</th>\n",
       "    </tr>\n",
       "  </thead>\n",
       "  <tbody>\n",
       "    <tr>\n",
       "      <th>0</th>\n",
       "      <td>ALİ</td>\n",
       "      <td>KANDEMİR</td>\n",
       "      <td>Sabit</td>\n",
       "      <td>Müşteri İlişkileri ve Satış</td>\n",
       "      <td>Kocaeli</td>\n",
       "      <td>22 Nisan 1985</td>\n",
       "      <td>9477</td>\n",
       "      <td>2625462003</td>\n",
       "      <td>kandemirali@yandex.com</td>\n",
       "    </tr>\n",
       "    <tr>\n",
       "      <th>1</th>\n",
       "      <td>MAHMUT</td>\n",
       "      <td>ÇEVİK</td>\n",
       "      <td>Sabit</td>\n",
       "      <td>Yazılım Geliştirme</td>\n",
       "      <td>İstanbul</td>\n",
       "      <td>02 Mayıs 1979</td>\n",
       "      <td>11331</td>\n",
       "      <td>2128804662</td>\n",
       "      <td>mahmut.çevik@yandex.com</td>\n",
       "    </tr>\n",
       "    <tr>\n",
       "      <th>2</th>\n",
       "      <td>MANSUR</td>\n",
       "      <td>ERKURAN</td>\n",
       "      <td>Vodafone</td>\n",
       "      <td>Yazılım Geliştirme</td>\n",
       "      <td>Ankara</td>\n",
       "      <td>02 Kasım 1979</td>\n",
       "      <td>11679</td>\n",
       "      <td>5488439920</td>\n",
       "      <td>mansur.erkuran@gmail.com</td>\n",
       "    </tr>\n",
       "    <tr>\n",
       "      <th>3</th>\n",
       "      <td>GAMZE</td>\n",
       "      <td>TÜTEN</td>\n",
       "      <td>Vodafone</td>\n",
       "      <td>Yazılım Geliştirme</td>\n",
       "      <td>Bursa</td>\n",
       "      <td>03 Şubat 1987</td>\n",
       "      <td>5206</td>\n",
       "      <td>5427560798</td>\n",
       "      <td>tütengamze@hotmail.com</td>\n",
       "    </tr>\n",
       "    <tr>\n",
       "      <th>4</th>\n",
       "      <td>MİRAÇ</td>\n",
       "      <td>ÖZTÜRK</td>\n",
       "      <td>Türk Telekom</td>\n",
       "      <td>Yazılım Geliştirme</td>\n",
       "      <td>İstanbul</td>\n",
       "      <td>22 Ekim 1987</td>\n",
       "      <td>8670</td>\n",
       "      <td>5544899572</td>\n",
       "      <td>öztürk.miraç@yandex.com</td>\n",
       "    </tr>\n",
       "  </tbody>\n",
       "</table>\n",
       "</div>"
      ],
      "text/plain": [
       "  Isimler Soyisimler   TelefonTuru                    Departman     Sehir  \\\n",
       "0     ALİ   KANDEMİR         Sabit  Müşteri İlişkileri ve Satış   Kocaeli   \n",
       "1  MAHMUT      ÇEVİK         Sabit           Yazılım Geliştirme  İstanbul   \n",
       "2  MANSUR    ERKURAN      Vodafone           Yazılım Geliştirme    Ankara   \n",
       "3   GAMZE      TÜTEN      Vodafone           Yazılım Geliştirme     Bursa   \n",
       "4   MİRAÇ     ÖZTÜRK  Türk Telekom           Yazılım Geliştirme  İstanbul   \n",
       "\n",
       "     DogumTarihi   Maas     Telefon                      mail  \n",
       "0  22 Nisan 1985   9477  2625462003    kandemirali@yandex.com  \n",
       "1  02 Mayıs 1979  11331  2128804662   mahmut.çevik@yandex.com  \n",
       "2  02 Kasım 1979  11679  5488439920  mansur.erkuran@gmail.com  \n",
       "3  03 Şubat 1987   5206  5427560798    tütengamze@hotmail.com  \n",
       "4   22 Ekim 1987   8670  5544899572   öztürk.miraç@yandex.com  "
      ]
     },
     "execution_count": 4,
     "metadata": {},
     "output_type": "execute_result"
    }
   ],
   "source": [
    "df.head()"
   ]
  },
  {
   "cell_type": "code",
   "execution_count": 5,
   "id": "a0be544c",
   "metadata": {},
   "outputs": [
    {
     "data": {
      "text/html": [
       "<div>\n",
       "<style scoped>\n",
       "    .dataframe tbody tr th:only-of-type {\n",
       "        vertical-align: middle;\n",
       "    }\n",
       "\n",
       "    .dataframe tbody tr th {\n",
       "        vertical-align: top;\n",
       "    }\n",
       "\n",
       "    .dataframe thead th {\n",
       "        text-align: right;\n",
       "    }\n",
       "</style>\n",
       "<table border=\"1\" class=\"dataframe\">\n",
       "  <thead>\n",
       "    <tr style=\"text-align: right;\">\n",
       "      <th></th>\n",
       "      <th>Isimler</th>\n",
       "      <th>Soyisimler</th>\n",
       "      <th>TelefonTuru</th>\n",
       "      <th>Departman</th>\n",
       "      <th>Sehir</th>\n",
       "      <th>DogumTarihi</th>\n",
       "      <th>Maas</th>\n",
       "      <th>Telefon</th>\n",
       "      <th>mail</th>\n",
       "    </tr>\n",
       "  </thead>\n",
       "  <tbody>\n",
       "    <tr>\n",
       "      <th>2441</th>\n",
       "      <td>ZEYNEP</td>\n",
       "      <td>DOĞANGÜZEL</td>\n",
       "      <td>Türk Telekom</td>\n",
       "      <td>Yazılım Geliştirme</td>\n",
       "      <td>İstanbul</td>\n",
       "      <td>22 Mayıs 1986</td>\n",
       "      <td>6021</td>\n",
       "      <td>5533689407</td>\n",
       "      <td>zeynep.doğangüzel@gmail.com</td>\n",
       "    </tr>\n",
       "    <tr>\n",
       "      <th>2442</th>\n",
       "      <td>CANER</td>\n",
       "      <td>AKKAYA</td>\n",
       "      <td>Türk Telekom</td>\n",
       "      <td>Yazılım Geliştirme</td>\n",
       "      <td>İstanbul</td>\n",
       "      <td>07 Kasım 1983</td>\n",
       "      <td>8716</td>\n",
       "      <td>5533969681</td>\n",
       "      <td>akkaya.caner@yandex.com</td>\n",
       "    </tr>\n",
       "    <tr>\n",
       "      <th>2443</th>\n",
       "      <td>VOLKAN</td>\n",
       "      <td>FEYZULLAHOĞLU</td>\n",
       "      <td>Türk Telekom</td>\n",
       "      <td>Yazılım Geliştirme</td>\n",
       "      <td>Bursa</td>\n",
       "      <td>09 Temmuz 1984</td>\n",
       "      <td>9408</td>\n",
       "      <td>5069462233</td>\n",
       "      <td>feyzullahoğlu.volkan@yahoo.com</td>\n",
       "    </tr>\n",
       "    <tr>\n",
       "      <th>2444</th>\n",
       "      <td>EMRE</td>\n",
       "      <td>ŞAHİN</td>\n",
       "      <td>Vodafone</td>\n",
       "      <td>Yazılım Geliştirme</td>\n",
       "      <td>İstanbul</td>\n",
       "      <td>16 Temmuz 1978</td>\n",
       "      <td>14493</td>\n",
       "      <td>5415697256</td>\n",
       "      <td>emre.şahin@yandex.com</td>\n",
       "    </tr>\n",
       "  </tbody>\n",
       "</table>\n",
       "</div>"
      ],
      "text/plain": [
       "     Isimler     Soyisimler   TelefonTuru           Departman     Sehir  \\\n",
       "2441  ZEYNEP     DOĞANGÜZEL  Türk Telekom  Yazılım Geliştirme  İstanbul   \n",
       "2442   CANER         AKKAYA  Türk Telekom  Yazılım Geliştirme  İstanbul   \n",
       "2443  VOLKAN  FEYZULLAHOĞLU  Türk Telekom  Yazılım Geliştirme     Bursa   \n",
       "2444    EMRE          ŞAHİN      Vodafone  Yazılım Geliştirme  İstanbul   \n",
       "\n",
       "         DogumTarihi   Maas     Telefon                            mail  \n",
       "2441   22 Mayıs 1986   6021  5533689407     zeynep.doğangüzel@gmail.com  \n",
       "2442   07 Kasım 1983   8716  5533969681         akkaya.caner@yandex.com  \n",
       "2443  09 Temmuz 1984   9408  5069462233  feyzullahoğlu.volkan@yahoo.com  \n",
       "2444  16 Temmuz 1978  14493  5415697256           emre.şahin@yandex.com  "
      ]
     },
     "execution_count": 5,
     "metadata": {},
     "output_type": "execute_result"
    }
   ],
   "source": [
    "df.tail(4)"
   ]
  },
  {
   "cell_type": "code",
   "execution_count": 6,
   "id": "3cdeedb3",
   "metadata": {},
   "outputs": [
    {
     "data": {
      "text/html": [
       "<div>\n",
       "<style scoped>\n",
       "    .dataframe tbody tr th:only-of-type {\n",
       "        vertical-align: middle;\n",
       "    }\n",
       "\n",
       "    .dataframe tbody tr th {\n",
       "        vertical-align: top;\n",
       "    }\n",
       "\n",
       "    .dataframe thead th {\n",
       "        text-align: right;\n",
       "    }\n",
       "</style>\n",
       "<table border=\"1\" class=\"dataframe\">\n",
       "  <thead>\n",
       "    <tr style=\"text-align: right;\">\n",
       "      <th></th>\n",
       "      <th>Isimler</th>\n",
       "      <th>Soyisimler</th>\n",
       "      <th>TelefonTuru</th>\n",
       "      <th>Departman</th>\n",
       "      <th>Sehir</th>\n",
       "      <th>DogumTarihi</th>\n",
       "      <th>Maas</th>\n",
       "      <th>Telefon</th>\n",
       "      <th>mail</th>\n",
       "    </tr>\n",
       "  </thead>\n",
       "  <tbody>\n",
       "    <tr>\n",
       "      <th>2441</th>\n",
       "      <td>ZEYNEP</td>\n",
       "      <td>DOĞANGÜZEL</td>\n",
       "      <td>Türk Telekom</td>\n",
       "      <td>Yazılım Geliştirme</td>\n",
       "      <td>İstanbul</td>\n",
       "      <td>22 Mayıs 1986</td>\n",
       "      <td>6021</td>\n",
       "      <td>5533689407</td>\n",
       "      <td>zeynep.doğangüzel@gmail.com</td>\n",
       "    </tr>\n",
       "    <tr>\n",
       "      <th>2442</th>\n",
       "      <td>CANER</td>\n",
       "      <td>AKKAYA</td>\n",
       "      <td>Türk Telekom</td>\n",
       "      <td>Yazılım Geliştirme</td>\n",
       "      <td>İstanbul</td>\n",
       "      <td>07 Kasım 1983</td>\n",
       "      <td>8716</td>\n",
       "      <td>5533969681</td>\n",
       "      <td>akkaya.caner@yandex.com</td>\n",
       "    </tr>\n",
       "    <tr>\n",
       "      <th>2443</th>\n",
       "      <td>VOLKAN</td>\n",
       "      <td>FEYZULLAHOĞLU</td>\n",
       "      <td>Türk Telekom</td>\n",
       "      <td>Yazılım Geliştirme</td>\n",
       "      <td>Bursa</td>\n",
       "      <td>09 Temmuz 1984</td>\n",
       "      <td>9408</td>\n",
       "      <td>5069462233</td>\n",
       "      <td>feyzullahoğlu.volkan@yahoo.com</td>\n",
       "    </tr>\n",
       "  </tbody>\n",
       "</table>\n",
       "</div>"
      ],
      "text/plain": [
       "     Isimler     Soyisimler   TelefonTuru           Departman     Sehir  \\\n",
       "2441  ZEYNEP     DOĞANGÜZEL  Türk Telekom  Yazılım Geliştirme  İstanbul   \n",
       "2442   CANER         AKKAYA  Türk Telekom  Yazılım Geliştirme  İstanbul   \n",
       "2443  VOLKAN  FEYZULLAHOĞLU  Türk Telekom  Yazılım Geliştirme     Bursa   \n",
       "\n",
       "         DogumTarihi  Maas     Telefon                            mail  \n",
       "2441   22 Mayıs 1986  6021  5533689407     zeynep.doğangüzel@gmail.com  \n",
       "2442   07 Kasım 1983  8716  5533969681         akkaya.caner@yandex.com  \n",
       "2443  09 Temmuz 1984  9408  5069462233  feyzullahoğlu.volkan@yahoo.com  "
      ]
     },
     "execution_count": 6,
     "metadata": {},
     "output_type": "execute_result"
    }
   ],
   "source": [
    "df[-4:-1]"
   ]
  },
  {
   "cell_type": "code",
   "execution_count": null,
   "id": "eae0ee81",
   "metadata": {},
   "outputs": [],
   "source": [
    "# iki boyutlu bir matris haline getirelim"
   ]
  },
  {
   "cell_type": "code",
   "execution_count": 7,
   "id": "2eac026c",
   "metadata": {},
   "outputs": [],
   "source": [
    "matris1 = df.values "
   ]
  },
  {
   "cell_type": "code",
   "execution_count": 8,
   "id": "478915b3",
   "metadata": {
    "scrolled": true
   },
   "outputs": [
    {
     "data": {
      "text/plain": [
       "array([['ALİ', 'KANDEMİR', 'Sabit', ..., 9477, 2625462003,\n",
       "        'kandemirali@yandex.com'],\n",
       "       ['MAHMUT', 'ÇEVİK', 'Sabit', ..., 11331, 2128804662,\n",
       "        'mahmut.çevik@yandex.com'],\n",
       "       ['MANSUR', 'ERKURAN', 'Vodafone', ..., 11679, 5488439920,\n",
       "        'mansur.erkuran@gmail.com'],\n",
       "       ...,\n",
       "       ['CANER', 'AKKAYA', 'Türk Telekom', ..., 8716, 5533969681,\n",
       "        'akkaya.caner@yandex.com'],\n",
       "       ['VOLKAN', 'FEYZULLAHOĞLU', 'Türk Telekom', ..., 9408, 5069462233,\n",
       "        'feyzullahoğlu.volkan@yahoo.com'],\n",
       "       ['EMRE', 'ŞAHİN', 'Vodafone', ..., 14493, 5415697256,\n",
       "        'emre.şahin@yandex.com']], dtype=object)"
      ]
     },
     "execution_count": 8,
     "metadata": {},
     "output_type": "execute_result"
    }
   ],
   "source": [
    "matris1"
   ]
  },
  {
   "cell_type": "code",
   "execution_count": 10,
   "id": "cd5affe7",
   "metadata": {
    "scrolled": true
   },
   "outputs": [
    {
     "data": {
      "text/plain": [
       "array(['ALİ', 'KANDEMİR', 'Sabit', 'Müşteri İlişkileri ve Satış',\n",
       "       'Kocaeli', '22 Nisan 1985', 9477, 2625462003,\n",
       "       'kandemirali@yandex.com'], dtype=object)"
      ]
     },
     "execution_count": 10,
     "metadata": {},
     "output_type": "execute_result"
    }
   ],
   "source": [
    "matris1[0]"
   ]
  },
  {
   "cell_type": "code",
   "execution_count": 12,
   "id": "f7b324cf",
   "metadata": {},
   "outputs": [
    {
     "data": {
      "text/plain": [
       "'ALİ'"
      ]
     },
     "execution_count": 12,
     "metadata": {},
     "output_type": "execute_result"
    }
   ],
   "source": [
    "matris1[0][0]"
   ]
  },
  {
   "cell_type": "code",
   "execution_count": 13,
   "id": "0a6204e3",
   "metadata": {},
   "outputs": [
    {
     "data": {
      "text/plain": [
       "pandas.core.series.Series"
      ]
     },
     "execution_count": 13,
     "metadata": {},
     "output_type": "execute_result"
    }
   ],
   "source": [
    "type(df.Isimler)"
   ]
  },
  {
   "cell_type": "code",
   "execution_count": 14,
   "id": "151f378c",
   "metadata": {},
   "outputs": [
    {
     "data": {
      "text/plain": [
       "0          ALİ\n",
       "1       MAHMUT\n",
       "2       MANSUR\n",
       "3        GAMZE\n",
       "4        MİRAÇ\n",
       "         ...  \n",
       "2440    YILMAZ\n",
       "2441    ZEYNEP\n",
       "2442     CANER\n",
       "2443    VOLKAN\n",
       "2444      EMRE\n",
       "Name: Isimler, Length: 2445, dtype: object"
      ]
     },
     "execution_count": 14,
     "metadata": {},
     "output_type": "execute_result"
    }
   ],
   "source": [
    "df.Isimler # seri seklinde kullanabiliriz"
   ]
  },
  {
   "cell_type": "code",
   "execution_count": 15,
   "id": "c72e612f",
   "metadata": {},
   "outputs": [
    {
     "data": {
      "text/plain": [
       "'MAHMUT'"
      ]
     },
     "execution_count": 15,
     "metadata": {},
     "output_type": "execute_result"
    }
   ],
   "source": [
    "df.Isimler[1]"
   ]
  },
  {
   "cell_type": "code",
   "execution_count": 16,
   "id": "126b7238",
   "metadata": {},
   "outputs": [
    {
     "data": {
      "text/plain": [
       "Isimler        object\n",
       "Soyisimler     object\n",
       "TelefonTuru    object\n",
       "Departman      object\n",
       "Sehir          object\n",
       "DogumTarihi    object\n",
       "Maas            int64\n",
       "Telefon         int64\n",
       "mail           object\n",
       "dtype: object"
      ]
     },
     "execution_count": 16,
     "metadata": {},
     "output_type": "execute_result"
    }
   ],
   "source": [
    "df.dtypes  # veri tiplerini gormus olduk"
   ]
  },
  {
   "cell_type": "code",
   "execution_count": 17,
   "id": "9438a111",
   "metadata": {},
   "outputs": [
    {
     "data": {
      "text/html": [
       "<div>\n",
       "<style scoped>\n",
       "    .dataframe tbody tr th:only-of-type {\n",
       "        vertical-align: middle;\n",
       "    }\n",
       "\n",
       "    .dataframe tbody tr th {\n",
       "        vertical-align: top;\n",
       "    }\n",
       "\n",
       "    .dataframe thead th {\n",
       "        text-align: right;\n",
       "    }\n",
       "</style>\n",
       "<table border=\"1\" class=\"dataframe\">\n",
       "  <thead>\n",
       "    <tr style=\"text-align: right;\">\n",
       "      <th></th>\n",
       "      <th>Maas</th>\n",
       "      <th>Telefon</th>\n",
       "    </tr>\n",
       "  </thead>\n",
       "  <tbody>\n",
       "    <tr>\n",
       "      <th>count</th>\n",
       "      <td>2445.000000</td>\n",
       "      <td>2.445000e+03</td>\n",
       "    </tr>\n",
       "    <tr>\n",
       "      <th>mean</th>\n",
       "      <td>8140.990184</td>\n",
       "      <td>5.103949e+09</td>\n",
       "    </tr>\n",
       "    <tr>\n",
       "      <th>std</th>\n",
       "      <td>3598.321001</td>\n",
       "      <td>9.171416e+08</td>\n",
       "    </tr>\n",
       "    <tr>\n",
       "      <th>min</th>\n",
       "      <td>3017.000000</td>\n",
       "      <td>2.121115e+09</td>\n",
       "    </tr>\n",
       "    <tr>\n",
       "      <th>25%</th>\n",
       "      <td>5403.000000</td>\n",
       "      <td>5.078872e+09</td>\n",
       "    </tr>\n",
       "    <tr>\n",
       "      <th>50%</th>\n",
       "      <td>7385.000000</td>\n",
       "      <td>5.448952e+09</td>\n",
       "    </tr>\n",
       "    <tr>\n",
       "      <th>75%</th>\n",
       "      <td>9984.000000</td>\n",
       "      <td>5.522060e+09</td>\n",
       "    </tr>\n",
       "    <tr>\n",
       "      <th>max</th>\n",
       "      <td>24270.000000</td>\n",
       "      <td>5.569854e+09</td>\n",
       "    </tr>\n",
       "  </tbody>\n",
       "</table>\n",
       "</div>"
      ],
      "text/plain": [
       "               Maas       Telefon\n",
       "count   2445.000000  2.445000e+03\n",
       "mean    8140.990184  5.103949e+09\n",
       "std     3598.321001  9.171416e+08\n",
       "min     3017.000000  2.121115e+09\n",
       "25%     5403.000000  5.078872e+09\n",
       "50%     7385.000000  5.448952e+09\n",
       "75%     9984.000000  5.522060e+09\n",
       "max    24270.000000  5.569854e+09"
      ]
     },
     "execution_count": 17,
     "metadata": {},
     "output_type": "execute_result"
    }
   ],
   "source": [
    "df.describe()"
   ]
  },
  {
   "cell_type": "code",
   "execution_count": 19,
   "id": "6a93f4bb",
   "metadata": {},
   "outputs": [
    {
     "data": {
      "text/plain": [
       "Index(['Isimler', 'Soyisimler', 'TelefonTuru', 'Departman', 'Sehir',\n",
       "       'DogumTarihi', 'Maas', 'Telefon', 'mail'],\n",
       "      dtype='object')"
      ]
     },
     "execution_count": 19,
     "metadata": {},
     "output_type": "execute_result"
    }
   ],
   "source": [
    "df.columns"
   ]
  },
  {
   "cell_type": "code",
   "execution_count": 20,
   "id": "7789d72b",
   "metadata": {},
   "outputs": [
    {
     "data": {
      "text/plain": [
       "(2445, 9)"
      ]
     },
     "execution_count": 20,
     "metadata": {},
     "output_type": "execute_result"
    }
   ],
   "source": [
    "df.shape"
   ]
  },
  {
   "cell_type": "code",
   "execution_count": 22,
   "id": "89e72960",
   "metadata": {},
   "outputs": [
    {
     "data": {
      "text/plain": [
       "RangeIndex(start=0, stop=2445, step=1)"
      ]
     },
     "execution_count": 22,
     "metadata": {},
     "output_type": "execute_result"
    }
   ],
   "source": [
    "df.index"
   ]
  },
  {
   "cell_type": "code",
   "execution_count": 23,
   "id": "2153619e",
   "metadata": {},
   "outputs": [
    {
     "data": {
      "text/plain": [
       "<bound method DataFrame.info of      Isimler     Soyisimler   TelefonTuru                    Departman  \\\n",
       "0        ALİ       KANDEMİR         Sabit  Müşteri İlişkileri ve Satış   \n",
       "1     MAHMUT          ÇEVİK         Sabit           Yazılım Geliştirme   \n",
       "2     MANSUR        ERKURAN      Vodafone           Yazılım Geliştirme   \n",
       "3      GAMZE          TÜTEN      Vodafone           Yazılım Geliştirme   \n",
       "4      MİRAÇ         ÖZTÜRK  Türk Telekom           Yazılım Geliştirme   \n",
       "...      ...            ...           ...                          ...   \n",
       "2440  YILMAZ         YAZICI      Vodafone           Yazılım Geliştirme   \n",
       "2441  ZEYNEP     DOĞANGÜZEL  Türk Telekom           Yazılım Geliştirme   \n",
       "2442   CANER         AKKAYA  Türk Telekom           Yazılım Geliştirme   \n",
       "2443  VOLKAN  FEYZULLAHOĞLU  Türk Telekom           Yazılım Geliştirme   \n",
       "2444    EMRE          ŞAHİN      Vodafone           Yazılım Geliştirme   \n",
       "\n",
       "         Sehir     DogumTarihi   Maas     Telefon  \\\n",
       "0      Kocaeli   22 Nisan 1985   9477  2625462003   \n",
       "1     İstanbul   02 Mayıs 1979  11331  2128804662   \n",
       "2       Ankara   02 Kasım 1979  11679  5488439920   \n",
       "3        Bursa   03 Şubat 1987   5206  5427560798   \n",
       "4     İstanbul    22 Ekim 1987   8670  5544899572   \n",
       "...        ...             ...    ...         ...   \n",
       "2440   Kocaeli  09 Aralık 1975  12593  5443005679   \n",
       "2441  İstanbul   22 Mayıs 1986   6021  5533689407   \n",
       "2442  İstanbul   07 Kasım 1983   8716  5533969681   \n",
       "2443     Bursa  09 Temmuz 1984   9408  5069462233   \n",
       "2444  İstanbul  16 Temmuz 1978  14493  5415697256   \n",
       "\n",
       "                                mail  \n",
       "0             kandemirali@yandex.com  \n",
       "1            mahmut.çevik@yandex.com  \n",
       "2           mansur.erkuran@gmail.com  \n",
       "3             tütengamze@hotmail.com  \n",
       "4            öztürk.miraç@yandex.com  \n",
       "...                              ...  \n",
       "2440         yilmaz.yazici@yahoo.com  \n",
       "2441     zeynep.doğangüzel@gmail.com  \n",
       "2442         akkaya.caner@yandex.com  \n",
       "2443  feyzullahoğlu.volkan@yahoo.com  \n",
       "2444           emre.şahin@yandex.com  \n",
       "\n",
       "[2445 rows x 9 columns]>"
      ]
     },
     "execution_count": 23,
     "metadata": {},
     "output_type": "execute_result"
    }
   ],
   "source": [
    "df.info"
   ]
  },
  {
   "cell_type": "code",
   "execution_count": 25,
   "id": "b8924f63",
   "metadata": {},
   "outputs": [
    {
     "name": "stdout",
     "output_type": "stream",
     "text": [
      "<class 'pandas.core.frame.DataFrame'>\n",
      "RangeIndex: 2445 entries, 0 to 2444\n",
      "Data columns (total 9 columns):\n",
      " #   Column       Non-Null Count  Dtype \n",
      "---  ------       --------------  ----- \n",
      " 0   Isimler      2445 non-null   object\n",
      " 1   Soyisimler   2445 non-null   object\n",
      " 2   TelefonTuru  2445 non-null   object\n",
      " 3   Departman    2445 non-null   object\n",
      " 4   Sehir        2445 non-null   object\n",
      " 5   DogumTarihi  2445 non-null   object\n",
      " 6   Maas         2445 non-null   int64 \n",
      " 7   Telefon      2445 non-null   int64 \n",
      " 8   mail         2445 non-null   object\n",
      "dtypes: int64(2), object(7)\n",
      "memory usage: 172.0+ KB\n"
     ]
    }
   ],
   "source": [
    "df.info()"
   ]
  }
 ],
 "metadata": {
  "kernelspec": {
   "display_name": "Python 3 (ipykernel)",
   "language": "python",
   "name": "python3"
  },
  "language_info": {
   "codemirror_mode": {
    "name": "ipython",
    "version": 3
   },
   "file_extension": ".py",
   "mimetype": "text/x-python",
   "name": "python",
   "nbconvert_exporter": "python",
   "pygments_lexer": "ipython3",
   "version": "3.9.7"
  }
 },
 "nbformat": 4,
 "nbformat_minor": 5
}
