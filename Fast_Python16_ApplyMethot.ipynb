{
 "cells": [
  {
   "cell_type": "code",
   "execution_count": 1,
   "id": "010149e7",
   "metadata": {},
   "outputs": [],
   "source": [
    "import pandas as pd"
   ]
  },
  {
   "cell_type": "code",
   "execution_count": 2,
   "id": "1c0cdd01",
   "metadata": {},
   "outputs": [],
   "source": [
    "liste1 = [4,3,2,8,7,5,10,1,6,9]"
   ]
  },
  {
   "cell_type": "code",
   "execution_count": 3,
   "id": "8ea8e951",
   "metadata": {},
   "outputs": [],
   "source": [
    "seri1 = pd.Series(liste1)"
   ]
  },
  {
   "cell_type": "code",
   "execution_count": 4,
   "id": "33b90a9d",
   "metadata": {},
   "outputs": [
    {
     "data": {
      "text/plain": [
       "0     4\n",
       "1     3\n",
       "2     2\n",
       "3     8\n",
       "4     7\n",
       "5     5\n",
       "6    10\n",
       "7     1\n",
       "8     6\n",
       "9     9\n",
       "dtype: int64"
      ]
     },
     "execution_count": 4,
     "metadata": {},
     "output_type": "execute_result"
    }
   ],
   "source": [
    "seri1"
   ]
  },
  {
   "cell_type": "code",
   "execution_count": 5,
   "id": "51c40593",
   "metadata": {
    "scrolled": true
   },
   "outputs": [
    {
     "ename": "TypeError",
     "evalue": "apply() missing 1 required positional argument: 'func'",
     "output_type": "error",
     "traceback": [
      "\u001b[1;31m---------------------------------------------------------------------------\u001b[0m",
      "\u001b[1;31mTypeError\u001b[0m                                 Traceback (most recent call last)",
      "\u001b[1;32m~\\AppData\\Local\\Temp/ipykernel_20144/2366080931.py\u001b[0m in \u001b[0;36m<module>\u001b[1;34m\u001b[0m\n\u001b[1;32m----> 1\u001b[1;33m \u001b[0mseri1\u001b[0m\u001b[1;33m.\u001b[0m\u001b[0mapply\u001b[0m\u001b[1;33m(\u001b[0m\u001b[1;33m)\u001b[0m\u001b[1;33m\u001b[0m\u001b[1;33m\u001b[0m\u001b[0m\n\u001b[0m",
      "\u001b[1;31mTypeError\u001b[0m: apply() missing 1 required positional argument: 'func'"
     ]
    }
   ],
   "source": [
    "seri1.apply()"
   ]
  },
  {
   "cell_type": "markdown",
   "id": "9cdfab8d",
   "metadata": {},
   "source": [
    "seri1.apply(\n",
    "    func: 'AggFuncType',\n",
    "    convert_dtype: 'bool' = True,\n",
    "    args: 'tuple[Any, ...]' = (),\n",
    "    **kwargs,\n",
    ")"
   ]
  },
  {
   "cell_type": "code",
   "execution_count": null,
   "id": "8b3a48a9",
   "metadata": {},
   "outputs": [],
   "source": [
    "Goruldugu gibi apply methodunun calismasi icin once bir fonksiyon istiyor,"
   ]
  },
  {
   "cell_type": "code",
   "execution_count": 6,
   "id": "11fe4d6b",
   "metadata": {},
   "outputs": [],
   "source": [
    "def ikiEkle(sayi):\n",
    "    return sayi + 2"
   ]
  },
  {
   "cell_type": "code",
   "execution_count": 7,
   "id": "85e06521",
   "metadata": {},
   "outputs": [
    {
     "data": {
      "text/plain": [
       "0     6\n",
       "1     5\n",
       "2     4\n",
       "3    10\n",
       "4     9\n",
       "5     7\n",
       "6    12\n",
       "7     3\n",
       "8     8\n",
       "9    11\n",
       "dtype: int64"
      ]
     },
     "execution_count": 7,
     "metadata": {},
     "output_type": "execute_result"
    }
   ],
   "source": [
    "seri1.apply(ikiEkle)"
   ]
  },
  {
   "cell_type": "code",
   "execution_count": 8,
   "id": "5dc74ab7",
   "metadata": {},
   "outputs": [
    {
     "data": {
      "text/plain": [
       "10"
      ]
     },
     "execution_count": 8,
     "metadata": {},
     "output_type": "execute_result"
    }
   ],
   "source": [
    "seri1.max()"
   ]
  },
  {
   "cell_type": "code",
   "execution_count": 9,
   "id": "11eda3ad",
   "metadata": {},
   "outputs": [
    {
     "data": {
      "text/plain": [
       "0     4\n",
       "1     3\n",
       "2     2\n",
       "3     8\n",
       "4     7\n",
       "5     5\n",
       "6    10\n",
       "7     1\n",
       "8     6\n",
       "9     9\n",
       "dtype: int64"
      ]
     },
     "execution_count": 9,
     "metadata": {},
     "output_type": "execute_result"
    }
   ],
   "source": [
    "seri1"
   ]
  },
  {
   "cell_type": "code",
   "execution_count": 10,
   "id": "97556294",
   "metadata": {},
   "outputs": [],
   "source": [
    "seri2 = seri1.apply(ikiEkle)"
   ]
  },
  {
   "cell_type": "code",
   "execution_count": 11,
   "id": "dbb747b9",
   "metadata": {},
   "outputs": [
    {
     "data": {
      "text/plain": [
       "0     6\n",
       "1     5\n",
       "2     4\n",
       "3    10\n",
       "4     9\n",
       "5     7\n",
       "6    12\n",
       "7     3\n",
       "8     8\n",
       "9    11\n",
       "dtype: int64"
      ]
     },
     "execution_count": 11,
     "metadata": {},
     "output_type": "execute_result"
    }
   ],
   "source": [
    "seri2"
   ]
  },
  {
   "cell_type": "code",
   "execution_count": 12,
   "id": "66122b26",
   "metadata": {},
   "outputs": [
    {
     "data": {
      "text/plain": [
       "12"
      ]
     },
     "execution_count": 12,
     "metadata": {},
     "output_type": "execute_result"
    }
   ],
   "source": [
    "seri2.max()"
   ]
  },
  {
   "cell_type": "code",
   "execution_count": 13,
   "id": "e3342187",
   "metadata": {},
   "outputs": [
    {
     "data": {
      "text/plain": [
       "3"
      ]
     },
     "execution_count": 13,
     "metadata": {},
     "output_type": "execute_result"
    }
   ],
   "source": [
    "seri2.min()"
   ]
  },
  {
   "cell_type": "code",
   "execution_count": 14,
   "id": "6c630668",
   "metadata": {
    "scrolled": true
   },
   "outputs": [
    {
     "data": {
      "text/plain": [
       "6"
      ]
     },
     "execution_count": 14,
     "metadata": {},
     "output_type": "execute_result"
    }
   ],
   "source": [
    "seri2.idxmax()"
   ]
  },
  {
   "cell_type": "code",
   "execution_count": 15,
   "id": "ca32bfe7",
   "metadata": {
    "scrolled": true
   },
   "outputs": [
    {
     "data": {
      "text/plain": [
       "7"
      ]
     },
     "execution_count": 15,
     "metadata": {},
     "output_type": "execute_result"
    }
   ],
   "source": [
    "seri2.idxmin()"
   ]
  },
  {
   "cell_type": "code",
   "execution_count": null,
   "id": "5933c006",
   "metadata": {},
   "outputs": [],
   "source": [
    "# seriyi stringe cevirme fonksiyonu ile kullanalim"
   ]
  },
  {
   "cell_type": "code",
   "execution_count": 20,
   "id": "6f3943a8",
   "metadata": {},
   "outputs": [],
   "source": [
    "def stringYap(sayi):\n",
    "    if sayi ==1:\n",
    "        return 'bir'\n",
    "    if sayi ==2:\n",
    "        return 'iki'\n",
    "    if sayi ==3:\n",
    "        return 'uc'\n",
    "    if sayi ==4:\n",
    "        return 'dort'"
   ]
  },
  {
   "cell_type": "code",
   "execution_count": 21,
   "id": "038db178",
   "metadata": {
    "scrolled": true
   },
   "outputs": [
    {
     "data": {
      "text/plain": [
       "0    dort\n",
       "1      uc\n",
       "2     iki\n",
       "3    None\n",
       "4    None\n",
       "5    None\n",
       "6    None\n",
       "7     bir\n",
       "8    None\n",
       "9    None\n",
       "dtype: object"
      ]
     },
     "execution_count": 21,
     "metadata": {},
     "output_type": "execute_result"
    }
   ],
   "source": [
    "seri1.apply(stringYap)"
   ]
  },
  {
   "cell_type": "code",
   "execution_count": null,
   "id": "28a8e3cf",
   "metadata": {},
   "outputs": [],
   "source": [
    "# Unutmayalim ki apply methodu tum seri icin calisir ve \n",
    "# calismadigi kisimlari None olarak dondurur"
   ]
  }
 ],
 "metadata": {
  "kernelspec": {
   "display_name": "Python 3 (ipykernel)",
   "language": "python",
   "name": "python3"
  },
  "language_info": {
   "codemirror_mode": {
    "name": "ipython",
    "version": 3
   },
   "file_extension": ".py",
   "mimetype": "text/x-python",
   "name": "python",
   "nbconvert_exporter": "python",
   "pygments_lexer": "ipython3",
   "version": "3.9.7"
  }
 },
 "nbformat": 4,
 "nbformat_minor": 5
}
